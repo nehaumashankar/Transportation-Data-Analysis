{
 "cells": [
  {
   "cell_type": "markdown",
   "id": "5c2705aa",
   "metadata": {
    "papermill": {
     "duration": 0.016447,
     "end_time": "2023-05-04T19:17:34.302672",
     "exception": false,
     "start_time": "2023-05-04T19:17:34.286225",
     "status": "completed"
    },
    "tags": []
   },
   "source": [
    "# Dept of Transportation Accidents, Casualties and Vehicle"
   ]
  },
  {
   "cell_type": "markdown",
   "id": "4cafffb5",
   "metadata": {
    "papermill": {
     "duration": 0.018278,
     "end_time": "2023-05-04T19:17:34.334594",
     "exception": false,
     "start_time": "2023-05-04T19:17:34.316316",
     "status": "completed"
    },
    "tags": []
   },
   "source": [
    "### 1. Install PySpark in Kaggle"
   ]
  },
  {
   "cell_type": "code",
   "execution_count": 1,
   "id": "11898746",
   "metadata": {
    "execution": {
     "iopub.execute_input": "2023-05-04T19:17:34.364279Z",
     "iopub.status.busy": "2023-05-04T19:17:34.363371Z",
     "iopub.status.idle": "2023-05-04T19:18:21.107905Z",
     "shell.execute_reply": "2023-05-04T19:18:21.106559Z"
    },
    "papermill": {
     "duration": 46.762717,
     "end_time": "2023-05-04T19:18:21.110753",
     "exception": false,
     "start_time": "2023-05-04T19:17:34.348036",
     "status": "completed"
    },
    "tags": []
   },
   "outputs": [
    {
     "name": "stdout",
     "output_type": "stream",
     "text": [
      "Collecting pyspark==3.2\r\n",
      "  Downloading pyspark-3.2.0.tar.gz (281.3 MB)\r\n",
      "\u001b[2K     \u001b[90m━━━━━━━━━━━━━━━━━━━━━━━━━━━━━━━━━━━━━━━\u001b[0m \u001b[32m281.3/281.3 MB\u001b[0m \u001b[31m4.0 MB/s\u001b[0m eta \u001b[36m0:00:00\u001b[0m\r\n",
      "\u001b[?25h  Preparing metadata (setup.py) ... \u001b[?25l-\b \b\\\b \b|\b \bdone\r\n",
      "\u001b[?25hCollecting py4j==0.10.9.2\r\n",
      "  Downloading py4j-0.10.9.2-py2.py3-none-any.whl (198 kB)\r\n",
      "\u001b[2K     \u001b[90m━━━━━━━━━━━━━━━━━━━━━━━━━━━━━━━━━━━━━━\u001b[0m \u001b[32m198.8/198.8 kB\u001b[0m \u001b[31m16.3 MB/s\u001b[0m eta \u001b[36m0:00:00\u001b[0m\r\n",
      "\u001b[?25hBuilding wheels for collected packages: pyspark\r\n",
      "  Building wheel for pyspark (setup.py) ... \u001b[?25l-\b \b\\\b \b|\b \b/\b \b-\b \b\\\b \b|\b \b/\b \b-\b \b\\\b \b|\b \b/\b \bdone\r\n",
      "\u001b[?25h  Created wheel for pyspark: filename=pyspark-3.2.0-py2.py3-none-any.whl size=281805913 sha256=aa689d262cccfb205118135d2ebac9f247588539b8bfe561244ae6639c0fbad0\r\n",
      "  Stored in directory: /root/.cache/pip/wheels/32/97/d3/8b6d964c8700e4fbb561c71638a92ec55dac9be51eb5fea86d\r\n",
      "Successfully built pyspark\r\n",
      "Installing collected packages: py4j, pyspark\r\n",
      "  Attempting uninstall: py4j\r\n",
      "    Found existing installation: py4j 0.10.9.7\r\n",
      "    Uninstalling py4j-0.10.9.7:\r\n",
      "      Successfully uninstalled py4j-0.10.9.7\r\n",
      "Successfully installed py4j-0.10.9.2 pyspark-3.2.0\r\n",
      "\u001b[33mWARNING: Running pip as the 'root' user can result in broken permissions and conflicting behaviour with the system package manager. It is recommended to use a virtual environment instead: https://pip.pypa.io/warnings/venv\u001b[0m\u001b[33m\r\n",
      "\u001b[0m"
     ]
    }
   ],
   "source": [
    "# install PySpark \n",
    "#http://spark.apache.org/docs/latest/api/python/index.html\n",
    "\n",
    "!pip install pyspark==3.2"
   ]
  },
  {
   "cell_type": "markdown",
   "id": "aaaa3621",
   "metadata": {
    "papermill": {
     "duration": 0.019491,
     "end_time": "2023-05-04T19:18:21.150341",
     "exception": false,
     "start_time": "2023-05-04T19:18:21.130850",
     "status": "completed"
    },
    "tags": []
   },
   "source": [
    "### 2. Start Spark Session and Configuration"
   ]
  },
  {
   "cell_type": "code",
   "execution_count": 2,
   "id": "790371fa",
   "metadata": {
    "execution": {
     "iopub.execute_input": "2023-05-04T19:18:21.192796Z",
     "iopub.status.busy": "2023-05-04T19:18:21.192381Z",
     "iopub.status.idle": "2023-05-04T19:18:27.258126Z",
     "shell.execute_reply": "2023-05-04T19:18:27.256453Z"
    },
    "papermill": {
     "duration": 6.089934,
     "end_time": "2023-05-04T19:18:27.260388",
     "exception": false,
     "start_time": "2023-05-04T19:18:21.170454",
     "status": "completed"
    },
    "tags": []
   },
   "outputs": [
    {
     "name": "stderr",
     "output_type": "stream",
     "text": [
      "WARNING: An illegal reflective access operation has occurred\n",
      "WARNING: Illegal reflective access by org.apache.spark.unsafe.Platform (file:/opt/conda/lib/python3.10/site-packages/pyspark/jars/spark-unsafe_2.12-3.2.0.jar) to constructor java.nio.DirectByteBuffer(long,int)\n",
      "WARNING: Please consider reporting this to the maintainers of org.apache.spark.unsafe.Platform\n",
      "WARNING: Use --illegal-access=warn to enable warnings of further illegal reflective access operations\n",
      "WARNING: All illegal access operations will be denied in a future release\n",
      "Using Spark's default log4j profile: org/apache/spark/log4j-defaults.properties\n",
      "Setting default log level to \"WARN\".\n",
      "To adjust logging level use sc.setLogLevel(newLevel). For SparkR, use setLogLevel(newLevel).\n",
      "23/05/04 19:18:24 WARN NativeCodeLoader: Unable to load native-hadoop library for your platform... using builtin-java classes where applicable\n",
      "/opt/conda/lib/python3.10/site-packages/pyspark/sql/context.py:77: FutureWarning: Deprecated in 3.0.0. Use SparkSession.builder.getOrCreate() instead.\n",
      "  warnings.warn(\n"
     ]
    }
   ],
   "source": [
    "# start spark sessnon and configuration\n",
    "from pyspark import SparkConf, SparkContext\n",
    "from pyspark.sql import SparkSession, SQLContext\n",
    "spark = SparkSession.builder.master(\"local[2]\").appName(\"dataframe\").getOrCreate()\n",
    "sc = spark.sparkContext\n",
    "sqlContext = SQLContext(sc)"
   ]
  },
  {
   "cell_type": "markdown",
   "id": "58eb37c7",
   "metadata": {
    "papermill": {
     "duration": 0.020237,
     "end_time": "2023-05-04T19:18:27.302232",
     "exception": false,
     "start_time": "2023-05-04T19:18:27.281995",
     "status": "completed"
    },
    "tags": []
   },
   "source": [
    "### 3. Import Required Libraries and Packages"
   ]
  },
  {
   "cell_type": "code",
   "execution_count": 3,
   "id": "24bda24c",
   "metadata": {
    "execution": {
     "iopub.execute_input": "2023-05-04T19:18:27.346632Z",
     "iopub.status.busy": "2023-05-04T19:18:27.346235Z",
     "iopub.status.idle": "2023-05-04T19:18:27.356270Z",
     "shell.execute_reply": "2023-05-04T19:18:27.355061Z"
    },
    "papermill": {
     "duration": 0.036284,
     "end_time": "2023-05-04T19:18:27.359398",
     "exception": false,
     "start_time": "2023-05-04T19:18:27.323114",
     "status": "completed"
    },
    "tags": []
   },
   "outputs": [],
   "source": [
    "# import python sql libraries and other functions \n",
    "from pyspark.sql.types import *\n",
    "from pyspark.sql import Row\n",
    "from pyspark.sql.functions import *\n",
    "# import python library for plotting data\n",
    "import matplotlib.pyplot as plt"
   ]
  },
  {
   "cell_type": "code",
   "execution_count": 4,
   "id": "c4b7f96e",
   "metadata": {
    "execution": {
     "iopub.execute_input": "2023-05-04T19:18:27.411290Z",
     "iopub.status.busy": "2023-05-04T19:18:27.410838Z",
     "iopub.status.idle": "2023-05-04T19:18:27.417773Z",
     "shell.execute_reply": "2023-05-04T19:18:27.416483Z"
    },
    "papermill": {
     "duration": 0.031499,
     "end_time": "2023-05-04T19:18:27.420148",
     "exception": false,
     "start_time": "2023-05-04T19:18:27.388649",
     "status": "completed"
    },
    "tags": []
   },
   "outputs": [],
   "source": [
    "# Import libraries and other functions\n",
    "from io import StringIO\n",
    "from collections import namedtuple\n",
    "from pyspark.sql import Row\n",
    "from pyspark.sql.types import *\n",
    "from pyspark.sql.functions import *\n",
    "\n",
    "import csv\n",
    "import matplotlib.pyplot as plt\n",
    "# import gmplot\n",
    "import pandas as pd"
   ]
  },
  {
   "cell_type": "code",
   "execution_count": 5,
   "id": "4ac6277a",
   "metadata": {
    "execution": {
     "iopub.execute_input": "2023-05-04T19:18:27.465875Z",
     "iopub.status.busy": "2023-05-04T19:18:27.465506Z",
     "iopub.status.idle": "2023-05-04T19:18:28.627200Z",
     "shell.execute_reply": "2023-05-04T19:18:28.626229Z"
    },
    "papermill": {
     "duration": 1.188289,
     "end_time": "2023-05-04T19:18:28.629783",
     "exception": false,
     "start_time": "2023-05-04T19:18:27.441494",
     "status": "completed"
    },
    "tags": []
   },
   "outputs": [
    {
     "name": "stderr",
     "output_type": "stream",
     "text": [
      "/opt/conda/lib/python3.10/site-packages/scipy/__init__.py:146: UserWarning: A NumPy version >=1.16.5 and <1.23.0 is required for this version of SciPy (detected version 1.23.5\n",
      "  warnings.warn(f\"A NumPy version >={np_minversion} and <{np_maxversion}\"\n"
     ]
    }
   ],
   "source": [
    "import numpy as np\n",
    "import pandas as pd\n",
    "import matplotlib.pyplot as plt\n",
    "from sklearn.metrics.pairwise import pairwise_distances"
   ]
  },
  {
   "cell_type": "code",
   "execution_count": 6,
   "id": "858aa3fc",
   "metadata": {
    "execution": {
     "iopub.execute_input": "2023-05-04T19:18:28.674036Z",
     "iopub.status.busy": "2023-05-04T19:18:28.672842Z",
     "iopub.status.idle": "2023-05-04T19:18:28.680735Z",
     "shell.execute_reply": "2023-05-04T19:18:28.679867Z"
    },
    "papermill": {
     "duration": 0.032327,
     "end_time": "2023-05-04T19:18:28.683124",
     "exception": false,
     "start_time": "2023-05-04T19:18:28.650797",
     "status": "completed"
    },
    "tags": []
   },
   "outputs": [],
   "source": [
    "import os\n",
    "import sys\n",
    "\n",
    "os.environ[\"SPARK_HOME\"] = \"/usr/spark2.4.3\"\n",
    "os.environ[\"PYLIB\"] = os.environ[\"SPARK_HOME\"] + \"/python/lib\"\n",
    "os.environ[\"PYSPARK_PYTHON\"] = \"/usr/local/anaconda/bin/python\" \n",
    "os.environ[\"PYSPARK_DRIVER_PYTHON\"] = \"/usr/local/anaconda/bin/python\"\n",
    "sys.path.insert(0, os.environ[\"PYLIB\"] +\"/py4j-0.10.7-src.zip\")\n",
    "sys.path.insert(0, os.environ[\"PYLIB\"] +\"/pyspark.zip\")\n",
    " \n",
    "from pyspark import SparkContext, SparkConf\n",
    "from pyspark.sql import SQLContext\n",
    "\n",
    "from pyspark.sql import SparkSession\n",
    "from functools import reduce\n",
    "from pyspark.sql.functions import col, lit, when\n",
    "#from graphframes import *"
   ]
  },
  {
   "cell_type": "markdown",
   "id": "83c523c0",
   "metadata": {
    "papermill": {
     "duration": 0.019756,
     "end_time": "2023-05-04T19:18:28.723263",
     "exception": false,
     "start_time": "2023-05-04T19:18:28.703507",
     "status": "completed"
    },
    "tags": []
   },
   "source": [
    "### Create \"Accidents\" DataFrame"
   ]
  },
  {
   "cell_type": "code",
   "execution_count": 7,
   "id": "62635ae9",
   "metadata": {
    "execution": {
     "iopub.execute_input": "2023-05-04T19:18:28.765890Z",
     "iopub.status.busy": "2023-05-04T19:18:28.764937Z",
     "iopub.status.idle": "2023-05-04T19:18:37.476298Z",
     "shell.execute_reply": "2023-05-04T19:18:37.474284Z"
    },
    "papermill": {
     "duration": 8.737098,
     "end_time": "2023-05-04T19:18:37.480472",
     "exception": false,
     "start_time": "2023-05-04T19:18:28.743374",
     "status": "completed"
    },
    "tags": []
   },
   "outputs": [
    {
     "name": "stderr",
     "output_type": "stream",
     "text": [
      "                                                                                \r"
     ]
    }
   ],
   "source": [
    "#USE TO LOAD TEXT FILES\n",
    "#create a DataFrame directly from p2734493-accident csv file \n",
    "accident_P2734493DF = spark.read.option(\"header\", \"true\").option(\"delimiter\", \",\")\\\n",
    ".option(\"inferSchema\", \"true\").csv(\"/kaggle/input/p2734493-accident/dft-road-casualty-statistics-accident-last-5-years.csv\")"
   ]
  },
  {
   "cell_type": "code",
   "execution_count": 8,
   "id": "77eb8f8c",
   "metadata": {
    "execution": {
     "iopub.execute_input": "2023-05-04T19:18:37.543281Z",
     "iopub.status.busy": "2023-05-04T19:18:37.542930Z",
     "iopub.status.idle": "2023-05-04T19:18:37.590773Z",
     "shell.execute_reply": "2023-05-04T19:18:37.589622Z"
    },
    "papermill": {
     "duration": 0.072742,
     "end_time": "2023-05-04T19:18:37.593243",
     "exception": false,
     "start_time": "2023-05-04T19:18:37.520501",
     "status": "completed"
    },
    "tags": []
   },
   "outputs": [
    {
     "data": {
      "text/plain": [
       "DataFrame[accident_index: string, accident_year: int, accident_reference: string, location_easting_osgr: string, location_northing_osgr: string, longitude: string, latitude: string, police_force: int, accident_severity: int, number_of_vehicles: int, number_of_casualties: int, date: string, day_of_week: int, time: string, local_authority_district: int, local_authority_ons_district: string, local_authority_highway: string, first_road_class: int, first_road_number: int, road_type: int, speed_limit: int, junction_detail: int, junction_control: int, second_road_class: int, second_road_number: int, pedestrian_crossing_human_control: int, pedestrian_crossing_physical_facilities: int, light_conditions: int, weather_conditions: int, road_surface_conditions: int, special_conditions_at_site: int, carriageway_hazards: int, urban_or_rural_area: int, did_police_officer_attend_scene_of_accident: int, trunk_road_flag: int, lsoa_of_accident_location: string]"
      ]
     },
     "execution_count": 8,
     "metadata": {},
     "output_type": "execute_result"
    }
   ],
   "source": [
    "accident_P2734493DF"
   ]
  },
  {
   "cell_type": "code",
   "execution_count": 9,
   "id": "79999ab9",
   "metadata": {
    "execution": {
     "iopub.execute_input": "2023-05-04T19:18:37.645229Z",
     "iopub.status.busy": "2023-05-04T19:18:37.644644Z",
     "iopub.status.idle": "2023-05-04T19:18:37.655601Z",
     "shell.execute_reply": "2023-05-04T19:18:37.654412Z"
    },
    "papermill": {
     "duration": 0.043002,
     "end_time": "2023-05-04T19:18:37.657818",
     "exception": false,
     "start_time": "2023-05-04T19:18:37.614816",
     "status": "completed"
    },
    "tags": []
   },
   "outputs": [
    {
     "name": "stdout",
     "output_type": "stream",
     "text": [
      "root\n",
      " |-- accident_index: string (nullable = true)\n",
      " |-- accident_year: integer (nullable = true)\n",
      " |-- accident_reference: string (nullable = true)\n",
      " |-- location_easting_osgr: string (nullable = true)\n",
      " |-- location_northing_osgr: string (nullable = true)\n",
      " |-- longitude: string (nullable = true)\n",
      " |-- latitude: string (nullable = true)\n",
      " |-- police_force: integer (nullable = true)\n",
      " |-- accident_severity: integer (nullable = true)\n",
      " |-- number_of_vehicles: integer (nullable = true)\n",
      " |-- number_of_casualties: integer (nullable = true)\n",
      " |-- date: string (nullable = true)\n",
      " |-- day_of_week: integer (nullable = true)\n",
      " |-- time: string (nullable = true)\n",
      " |-- local_authority_district: integer (nullable = true)\n",
      " |-- local_authority_ons_district: string (nullable = true)\n",
      " |-- local_authority_highway: string (nullable = true)\n",
      " |-- first_road_class: integer (nullable = true)\n",
      " |-- first_road_number: integer (nullable = true)\n",
      " |-- road_type: integer (nullable = true)\n",
      " |-- speed_limit: integer (nullable = true)\n",
      " |-- junction_detail: integer (nullable = true)\n",
      " |-- junction_control: integer (nullable = true)\n",
      " |-- second_road_class: integer (nullable = true)\n",
      " |-- second_road_number: integer (nullable = true)\n",
      " |-- pedestrian_crossing_human_control: integer (nullable = true)\n",
      " |-- pedestrian_crossing_physical_facilities: integer (nullable = true)\n",
      " |-- light_conditions: integer (nullable = true)\n",
      " |-- weather_conditions: integer (nullable = true)\n",
      " |-- road_surface_conditions: integer (nullable = true)\n",
      " |-- special_conditions_at_site: integer (nullable = true)\n",
      " |-- carriageway_hazards: integer (nullable = true)\n",
      " |-- urban_or_rural_area: integer (nullable = true)\n",
      " |-- did_police_officer_attend_scene_of_accident: integer (nullable = true)\n",
      " |-- trunk_road_flag: integer (nullable = true)\n",
      " |-- lsoa_of_accident_location: string (nullable = true)\n",
      "\n"
     ]
    }
   ],
   "source": [
    "accident_P2734493DF.printSchema()"
   ]
  },
  {
   "cell_type": "code",
   "execution_count": 10,
   "id": "f3dfb07e",
   "metadata": {
    "execution": {
     "iopub.execute_input": "2023-05-04T19:18:37.703363Z",
     "iopub.status.busy": "2023-05-04T19:18:37.702399Z",
     "iopub.status.idle": "2023-05-04T19:18:38.160545Z",
     "shell.execute_reply": "2023-05-04T19:18:38.159313Z"
    },
    "papermill": {
     "duration": 0.483835,
     "end_time": "2023-05-04T19:18:38.163537",
     "exception": false,
     "start_time": "2023-05-04T19:18:37.679702",
     "status": "completed"
    },
    "tags": []
   },
   "outputs": [
    {
     "name": "stderr",
     "output_type": "stream",
     "text": [
      "23/05/04 19:18:37 WARN package: Truncated the string representation of a plan since it was too large. This behavior can be adjusted by setting 'spark.sql.debug.maxToStringFields'.\n"
     ]
    },
    {
     "data": {
      "text/plain": [
       "[Row(accident_index='2017010001708', accident_year=2017, accident_reference='010001708', location_easting_osgr='532920', location_northing_osgr='196330', longitude='-0.080107', latitude='51.650061', police_force=1, accident_severity=1, number_of_vehicles=2, number_of_casualties=3, date='05/08/2017', day_of_week=7, time='03:12', local_authority_district=32, local_authority_ons_district='E09000010', local_authority_highway='E09000010', first_road_class=3, first_road_number=105, road_type=6, speed_limit=30, junction_detail=0, junction_control=-1, second_road_class=-1, second_road_number=-1, pedestrian_crossing_human_control=0, pedestrian_crossing_physical_facilities=0, light_conditions=4, weather_conditions=1, road_surface_conditions=1, special_conditions_at_site=0, carriageway_hazards=0, urban_or_rural_area=1, did_police_officer_attend_scene_of_accident=1, trunk_road_flag=2, lsoa_of_accident_location='E01001450'),\n",
       " Row(accident_index='2017010009342', accident_year=2017, accident_reference='010009342', location_easting_osgr='526790', location_northing_osgr='181970', longitude='-0.173845', latitude='51.522425', police_force=1, accident_severity=3, number_of_vehicles=2, number_of_casualties=1, date='01/01/2017', day_of_week=1, time='01:30', local_authority_district=1, local_authority_ons_district='E09000033', local_authority_highway='E09000033', first_road_class=3, first_road_number=5, road_type=6, speed_limit=30, junction_detail=3, junction_control=4, second_road_class=6, second_road_number=0, pedestrian_crossing_human_control=0, pedestrian_crossing_physical_facilities=0, light_conditions=4, weather_conditions=1, road_surface_conditions=2, special_conditions_at_site=0, carriageway_hazards=0, urban_or_rural_area=1, did_police_officer_attend_scene_of_accident=1, trunk_road_flag=2, lsoa_of_accident_location='E01004702'),\n",
       " Row(accident_index='2017010009344', accident_year=2017, accident_reference='010009344', location_easting_osgr='535200', location_northing_osgr='181260', longitude='-0.052969', latitude='51.514096', police_force=1, accident_severity=3, number_of_vehicles=3, number_of_casualties=1, date='01/01/2017', day_of_week=1, time='00:30', local_authority_district=5, local_authority_ons_district='E09000030', local_authority_highway='E09000030', first_road_class=3, first_road_number=13, road_type=6, speed_limit=30, junction_detail=3, junction_control=4, second_road_class=5, second_road_number=0, pedestrian_crossing_human_control=0, pedestrian_crossing_physical_facilities=0, light_conditions=4, weather_conditions=1, road_surface_conditions=1, special_conditions_at_site=0, carriageway_hazards=0, urban_or_rural_area=1, did_police_officer_attend_scene_of_accident=1, trunk_road_flag=2, lsoa_of_accident_location='E01004298')]"
      ]
     },
     "execution_count": 10,
     "metadata": {},
     "output_type": "execute_result"
    }
   ],
   "source": [
    "# return the first three items\n",
    "\n",
    "accident_P2734493DF.take(3)"
   ]
  },
  {
   "cell_type": "code",
   "execution_count": 11,
   "id": "7d7c0136",
   "metadata": {
    "execution": {
     "iopub.execute_input": "2023-05-04T19:18:38.233300Z",
     "iopub.status.busy": "2023-05-04T19:18:38.232840Z",
     "iopub.status.idle": "2023-05-04T19:18:38.968046Z",
     "shell.execute_reply": "2023-05-04T19:18:38.966803Z"
    },
    "papermill": {
     "duration": 0.773938,
     "end_time": "2023-05-04T19:18:38.971615",
     "exception": false,
     "start_time": "2023-05-04T19:18:38.197677",
     "status": "completed"
    },
    "tags": []
   },
   "outputs": [
    {
     "name": "stdout",
     "output_type": "stream",
     "text": [
      "+--------------+-------------+------------------+---------------------+----------------------+---------+---------+------------+-----------------+------------------+--------------------+----------+-----------+-----+------------------------+----------------------------+-----------------------+----------------+-----------------+---------+-----------+---------------+----------------+-----------------+------------------+---------------------------------+---------------------------------------+----------------+------------------+-----------------------+--------------------------+-------------------+-------------------+-------------------------------------------+---------------+-------------------------+\n",
      "|accident_index|accident_year|accident_reference|location_easting_osgr|location_northing_osgr|longitude| latitude|police_force|accident_severity|number_of_vehicles|number_of_casualties|      date|day_of_week| time|local_authority_district|local_authority_ons_district|local_authority_highway|first_road_class|first_road_number|road_type|speed_limit|junction_detail|junction_control|second_road_class|second_road_number|pedestrian_crossing_human_control|pedestrian_crossing_physical_facilities|light_conditions|weather_conditions|road_surface_conditions|special_conditions_at_site|carriageway_hazards|urban_or_rural_area|did_police_officer_attend_scene_of_accident|trunk_road_flag|lsoa_of_accident_location|\n",
      "+--------------+-------------+------------------+---------------------+----------------------+---------+---------+------------+-----------------+------------------+--------------------+----------+-----------+-----+------------------------+----------------------------+-----------------------+----------------+-----------------+---------+-----------+---------------+----------------+-----------------+------------------+---------------------------------+---------------------------------------+----------------+------------------+-----------------------+--------------------------+-------------------+-------------------+-------------------------------------------+---------------+-------------------------+\n",
      "| 2017010001708|         2017|         010001708|               532920|                196330|-0.080107|51.650061|           1|                1|                 2|                   3|05/08/2017|          7|03:12|                      32|                   E09000010|              E09000010|               3|              105|        6|         30|              0|              -1|               -1|                -1|                                0|                                      0|               4|                 1|                      1|                         0|                  0|                  1|                                          1|              2|                E01001450|\n",
      "| 2017010009342|         2017|         010009342|               526790|                181970|-0.173845|51.522425|           1|                3|                 2|                   1|01/01/2017|          1|01:30|                       1|                   E09000033|              E09000033|               3|                5|        6|         30|              3|               4|                6|                 0|                                0|                                      0|               4|                 1|                      2|                         0|                  0|                  1|                                          1|              2|                E01004702|\n",
      "| 2017010009344|         2017|         010009344|               535200|                181260|-0.052969|51.514096|           1|                3|                 3|                   1|01/01/2017|          1|00:30|                       5|                   E09000030|              E09000030|               3|               13|        6|         30|              3|               4|                5|                 0|                                0|                                      0|               4|                 1|                      1|                         0|                  0|                  1|                                          1|              2|                E01004298|\n",
      "| 2017010009348|         2017|         010009348|               534340|                193560|-0.060658|51.624832|           1|                3|                 2|                   1|01/01/2017|          1|01:11|                      32|                   E09000010|              E09000010|               3|             1010|        1|         30|              1|               4|                4|               154|                                0|                                      4|               4|                 2|                      2|                         0|                  0|                  1|                                          1|              2|                E01001429|\n",
      "| 2017010009350|         2017|         010009350|               533680|                187820|-0.072372|51.573408|           1|                2|                 1|                   1|01/01/2017|          1|01:42|                       4|                   E09000012|              E09000012|               3|              107|        3|         20|              6|               2|                3|                10|                                0|                                      5|               4|                 1|                      2|                         0|                  0|                  1|                                          1|              2|                E01001808|\n",
      "| 2017010009351|         2017|         010009351|               514510|                172370|-0.353876|51.438762|           1|                3|                 2|                   1|01/01/2017|          1|03:31|                      24|                   E09000027|              E09000027|               6|                0|        6|         30|              0|              -1|               -1|                -1|                                0|                                      0|               4|                 1|                      2|                         0|                  0|                  1|                                          1|              2|                E01003900|\n",
      "| 2017010009353|         2017|         010009353|               508640|                181870|-0.435377|51.525305|           1|                3|                 2|                   2|01/01/2017|          1|04:07|                      26|                   E09000017|              E09000017|               3|             4020|        3|         40|              3|               4|                5|                 0|                                0|                                      4|               4|                 1|                      2|                         0|                  0|                  1|                                          1|              2|                E01002401|\n",
      "| 2017010009354|         2017|         010009354|               527880|                181950| -0.15815|   51.522|           1|                3|                 2|                   1|01/01/2017|          1|05:20|                       1|                   E09000033|              E09000033|               3|              501|        3|         30|              0|              -1|               -1|                -1|                                2|                                      5|               4|                 2|                      2|                         4|                  0|                  1|                                          1|              2|                E01004660|\n",
      "| 2017010009357|         2017|         010009357|               520940|                192820|-0.254393|51.621219|           1|                2|                 1|                   1|01/01/2017|          1|03:18|                      30|                   E09000003|              E09000003|               3|                1|        3|         50|              1|               2|                3|              5109|                                0|                                      4|               4|                 2|                      2|                         0|                  0|                  1|                                          1|              2|                E01000264|\n",
      "| 2017010009358|         2017|         010009358|               531430|                178450|-0.108314|51.489732|           1|                2|                 1|                   1|01/01/2017|          1|03:00|                       9|                   E09000022|              E09000022|               3|             3204|        6|         30|              3|               4|                6|                 0|                                0|                                      0|               4|                 1|                      2|                         0|                  0|                  1|                                          1|              2|                E01003106|\n",
      "| 2017010009360|         2017|         010009360|               533910|                190610|-0.067992|51.598425|           1|                3|                 2|                   4|01/01/2017|          1|05:00|                      31|                   E09000014|              E09000014|               3|             1010|        6|         30|              6|               2|                4|               137|                                0|                                      5|               4|                 2|                      2|                         0|                  0|                  1|                                          1|              2|                E01002077|\n",
      "| 2017010009362|         2017|         010009362|               513280|                184540|-0.367663|51.548392|           1|                3|                 1|                   1|01/01/2017|          1|06:55|                      27|                   E09000009|              E09000009|               3|              312|        6|         30|              0|              -1|               -1|                -1|                                0|                                      4|               4|                 1|                      2|                         0|                  0|                  1|                                          1|              2|                E01001322|\n",
      "| 2017010009363|         2017|         010009363|               534620|                177710|-0.062676|51.482332|           1|                3|                 1|                   3|01/01/2017|          1|10:45|                       8|                   E09000028|              E09000028|               3|                2|        3|         30|              3|               4|                6|                 0|                                0|                                      0|               6|                 1|                      2|                         0|                  0|                  1|                                          1|              2|                E01003988|\n",
      "| 2017010009364|         2017|         010009364|               530160|                182870|-0.124965|51.529748|           1|                2|                 2|                   1|01/01/2017|          1|08:15|                       2|                   E09000007|              E09000007|               3|              501|        3|         30|              0|              -1|               -1|                -1|                                0|                                      5|               1|                 2|                      2|                         0|                  0|                  1|                                          1|              2|                E01000956|\n",
      "| 2017010009365|         2017|         010009365|               553430|                189040| 0.212939|51.579345|           1|                3|                 2|                   1|01/01/2017|          1|01:15|                      15|                   E09000016|              E09000016|               6|                0|        9|         20|              0|              -1|               -1|                -1|                                0|                                      9|               7|                 9|                      9|                         9|                  9|                  1|                                          2|              2|                E01002381|\n",
      "| 2017010009366|         2017|         010009366|               526150|                174740|-0.185647|51.457591|           1|                3|                 1|                   1|01/01/2017|          1|10:25|                      10|                   E09000032|              E09000032|               3|                3|        6|         30|              3|               2|                6|                 0|                                0|                                      5|               1|                 8|                      2|                         0|                  0|                  1|                                          1|              2|                E01004627|\n",
      "| 2017010009375|         2017|         010009375|               524970|                177640|-0.201598|51.483916|           1|                3|                 3|                   1|01/01/2017|          1|16:48|                      11|                   E09000013|              E09000013|               4|              317|        6|         20|              3|               4|                6|                 0|                                0|                                      0|               4|                 2|                      2|                         0|                  0|                  1|                                          1|              2|                E01001881|\n",
      "| 2017010009376|         2017|         010009376|               507050|                174420|-0.460544|51.458645|           1|                3|                 1|                   1|01/01/2017|          1|05:10|                      57|                   EHEATHROW|              EHEATHROW|               6|                0|        6|         30|              2|               4|                6|                 0|                                0|                                      1|               5|                 2|                      2|                         2|                  0|                  2|                                          1|              2|                E01002444|\n",
      "| 2017010009377|         2017|         010009377|               525070|                187900|-0.196517|51.576102|           1|                3|                 1|                   1|01/01/2017|          1|18:06|                      30|                   E09000003|              E09000003|               5|                0|        6|         30|              6|               2|                3|               598|                                0|                                      5|               4|                 2|                      2|                         0|                  0|                  1|                                          1|              2|                E01000212|\n",
      "| 2017010009379|         2017|         010009379|               520070|                190530|-0.267737|51.600824|           1|                3|                 2|                   1|01/01/2017|          1|16:55|                      30|                   E09000003|              E09000003|               3|                5|        6|         30|              3|               4|                5|                 0|                                0|                                      0|               4|                 2|                      2|                         0|                  0|                  1|                                          1|              2|                E01002123|\n",
      "+--------------+-------------+------------------+---------------------+----------------------+---------+---------+------------+-----------------+------------------+--------------------+----------+-----------+-----+------------------------+----------------------------+-----------------------+----------------+-----------------+---------+-----------+---------------+----------------+-----------------+------------------+---------------------------------+---------------------------------------+----------------+------------------+-----------------------+--------------------------+-------------------+-------------------+-------------------------------------------+---------------+-------------------------+\n",
      "only showing top 20 rows\n",
      "\n"
     ]
    }
   ],
   "source": [
    "accident_P2734493DF.show()"
   ]
  },
  {
   "cell_type": "markdown",
   "id": "81f45556",
   "metadata": {
    "papermill": {
     "duration": 0.021962,
     "end_time": "2023-05-04T19:18:39.021137",
     "exception": false,
     "start_time": "2023-05-04T19:18:38.999175",
     "status": "completed"
    },
    "tags": []
   },
   "source": [
    "### Check for missing values"
   ]
  },
  {
   "cell_type": "code",
   "execution_count": 12,
   "id": "a050e5ce",
   "metadata": {
    "execution": {
     "iopub.execute_input": "2023-05-04T19:18:39.066251Z",
     "iopub.status.busy": "2023-05-04T19:18:39.065756Z",
     "iopub.status.idle": "2023-05-04T19:18:42.946972Z",
     "shell.execute_reply": "2023-05-04T19:18:42.945791Z"
    },
    "papermill": {
     "duration": 3.907289,
     "end_time": "2023-05-04T19:18:42.950042",
     "exception": false,
     "start_time": "2023-05-04T19:18:39.042753",
     "status": "completed"
    },
    "tags": []
   },
   "outputs": [
    {
     "name": "stderr",
     "output_type": "stream",
     "text": [
      "[Stage 4:=============================>                             (1 + 1) / 2]\r"
     ]
    },
    {
     "name": "stdout",
     "output_type": "stream",
     "text": [
      "+--------------+-------------+------------------+---------------------+----------------------+---------+--------+------------+-----------------+------------------+--------------------+----+-----------+----+------------------------+----------------------------+-----------------------+----------------+-----------------+---------+-----------+---------------+----------------+-----------------+------------------+---------------------------------+---------------------------------------+----------------+------------------+-----------------------+--------------------------+-------------------+-------------------+-------------------------------------------+---------------+-------------------------+\n",
      "|accident_index|accident_year|accident_reference|location_easting_osgr|location_northing_osgr|longitude|latitude|police_force|accident_severity|number_of_vehicles|number_of_casualties|date|day_of_week|time|local_authority_district|local_authority_ons_district|local_authority_highway|first_road_class|first_road_number|road_type|speed_limit|junction_detail|junction_control|second_road_class|second_road_number|pedestrian_crossing_human_control|pedestrian_crossing_physical_facilities|light_conditions|weather_conditions|road_surface_conditions|special_conditions_at_site|carriageway_hazards|urban_or_rural_area|did_police_officer_attend_scene_of_accident|trunk_road_flag|lsoa_of_accident_location|\n",
      "+--------------+-------------+------------------+---------------------+----------------------+---------+--------+------------+-----------------+------------------+--------------------+----+-----------+----+------------------------+----------------------------+-----------------------+----------------+-----------------+---------+-----------+---------------+----------------+-----------------+------------------+---------------------------------+---------------------------------------+----------------+------------------+-----------------------+--------------------------+-------------------+-------------------+-------------------------------------------+---------------+-------------------------+\n",
      "|             0|            0|                 0|                    0|                     0|        0|       0|           0|                0|                 0|                   0|   0|          0|   0|                       0|                           0|                      0|               0|                0|        0|          0|              0|               0|                0|                 0|                                0|                                      0|               0|                 0|                      0|                         0|                  0|                  0|                                          0|              0|                        0|\n",
      "+--------------+-------------+------------------+---------------------+----------------------+---------+--------+------------+-----------------+------------------+--------------------+----+-----------+----+------------------------+----------------------------+-----------------------+----------------+-----------------+---------+-----------+---------------+----------------+-----------------+------------------+---------------------------------+---------------------------------------+----------------+------------------+-----------------------+--------------------------+-------------------+-------------------+-------------------------------------------+---------------+-------------------------+\n",
      "\n"
     ]
    },
    {
     "name": "stderr",
     "output_type": "stream",
     "text": [
      "                                                                                \r"
     ]
    }
   ],
   "source": [
    "from pyspark.sql.functions import col, sum\n",
    "\n",
    "# Count the number of missing values in each column\n",
    "missing_values = accident_P2734493DF.agg(*[\n",
    "    sum(col(c).isNull().cast(\"integer\")).alias(c) for c in accident_P2734493DF.columns\n",
    "])\n",
    "\n",
    "# Print the results\n",
    "missing_values.show()\n"
   ]
  },
  {
   "cell_type": "markdown",
   "id": "084fe751",
   "metadata": {
    "papermill": {
     "duration": 0.027887,
     "end_time": "2023-05-04T19:18:43.013273",
     "exception": false,
     "start_time": "2023-05-04T19:18:42.985386",
     "status": "completed"
    },
    "tags": []
   },
   "source": [
    "In this example, sum(col(c).isNull().cast(\"integer\")).alias(c) calculates the number of missing values in each column and assigns the result to a new column with the same name as the original column. The missing_values DataFrame contains one row with the total number of missing values in each column.\n"
   ]
  },
  {
   "cell_type": "code",
   "execution_count": 13,
   "id": "977e95f0",
   "metadata": {
    "execution": {
     "iopub.execute_input": "2023-05-04T19:18:43.060417Z",
     "iopub.status.busy": "2023-05-04T19:18:43.059970Z",
     "iopub.status.idle": "2023-05-04T19:18:59.536207Z",
     "shell.execute_reply": "2023-05-04T19:18:59.535011Z"
    },
    "papermill": {
     "duration": 16.504558,
     "end_time": "2023-05-04T19:18:59.540071",
     "exception": false,
     "start_time": "2023-05-04T19:18:43.035513",
     "status": "completed"
    },
    "tags": []
   },
   "outputs": [
    {
     "name": "stderr",
     "output_type": "stream",
     "text": [
      "                                                                                \r"
     ]
    },
    {
     "name": "stdout",
     "output_type": "stream",
     "text": [
      "+-------+--------------+------------------+------------------+---------------------+----------------------+-------------------+------------------+------------------+------------------+------------------+--------------------+----------+------------------+------+------------------------+----------------------------+-----------------------+------------------+-----------------+-----------------+-----------------+------------------+------------------+------------------+------------------+---------------------------------+---------------------------------------+------------------+------------------+-----------------------+--------------------------+-------------------+-------------------+-------------------------------------------+------------------+-------------------------+\n",
      "|summary|accident_index|     accident_year|accident_reference|location_easting_osgr|location_northing_osgr|          longitude|          latitude|      police_force| accident_severity|number_of_vehicles|number_of_casualties|      date|       day_of_week|  time|local_authority_district|local_authority_ons_district|local_authority_highway|  first_road_class|first_road_number|        road_type|      speed_limit|   junction_detail|  junction_control| second_road_class|second_road_number|pedestrian_crossing_human_control|pedestrian_crossing_physical_facilities|  light_conditions|weather_conditions|road_surface_conditions|special_conditions_at_site|carriageway_hazards|urban_or_rural_area|did_police_officer_attend_scene_of_accident|   trunk_road_flag|lsoa_of_accident_location|\n",
      "+-------+--------------+------------------+------------------+---------------------+----------------------+-------------------+------------------+------------------+------------------+------------------+--------------------+----------+------------------+------+------------------------+----------------------------+-----------------------+------------------+-----------------+-----------------+-----------------+------------------+------------------+------------------+------------------+---------------------------------+---------------------------------------+------------------+------------------+-----------------------+--------------------------+-------------------+-------------------+-------------------------------------------+------------------+-------------------------+\n",
      "|  count|        562439|            562439|            562439|               562439|                562439|             562439|            562439|            562439|            562439|            562439|              562439|    562439|            562439|562439|                  562439|                      562439|                 562439|            562439|           562439|           562439|           562439|            562439|            562439|            562439|            562439|                           562439|                                 562439|            562439|            562439|                 562439|                    562439|             562439|             562439|                                     562439|            562439|                   562439|\n",
      "|   mean|      Infinity|2018.8413587962427|          Infinity|    453092.3445419398|     279117.4882839593|-1.2394406382848193| 52.39931686179833|27.988935689025833|2.7800952636641485| 1.841148995713313|   1.295324470742605|      null| 4.113656769889713|  null|       266.0548059434001|                        null|                   -1.0| 4.212211457598069|776.4651953367387|5.210541943215175|36.73788268594461| 3.407889566690788|1.7522077949786554| 2.767494786101248|221.04355672348467|              0.28007659497296594|                     1.1117632312126293|2.0255565492435625| 1.650187842592708|     1.3782970242106256|       0.22391939392538568|0.17521011167433267| 1.3244262933402555|                         1.3556634586150675| 1.687587453928337|                     -1.0|\n",
      "| stddev|           NaN|1.4136345455123296|               NaN|    94486.23039569771|    150420.17668444474| 1.3841345823911781|1.3550032160933538|24.704727544255753|0.4466903346875431|0.7046567661553745|  0.7341104097190073|      null|1.9297458089169477|  null|      263.99394223118037|                        null|   5.135547535262901...|1.4656011065233125|1576.691613381745| 1.69928941224774|14.03746260560226|10.543429422505218|2.5343295975119724|3.0753019456641937| 928.2282650843617|               1.5104837259560413|                     2.3491898262042183|1.7178868779476144|1.8246069007167833|      0.955680789714106|         1.260399133382492| 1.1382319584013803|0.46864258080935584|                         0.5928225915576046|0.8414378713596016|     5.551151649458105...|\n",
      "|    min| 2017010001708|              2017|         010001708|               103897|                100004|          -0.000101|         49.912362|                 1|                 1|                 1|                   1|01/01/2017|                 1| 00:00|                      -1|                   E06000001|                     -1|                 1|                0|                1|               -1|                -1|                -1|                -1|                -1|                               -1|                                     -1|                -1|                -1|                     -1|                        -1|                 -1|                 -1|                                         -1|                -1|                       -1|\n",
      "|    max| 2021991201030|              2021|         991201030|                 NULL|                  NULL|               NULL|              NULL|                99|                 3|                24|                  59|31/12/2021|                 7| 23:59|                     941|                   W06000024|              W06000024|                 6|             9480|                9|               70|                99|                 9|                 9|              9177|                                9|                                      9|                 7|                 9|                      9|                         9|                  9|                  3|                                          3|                 2|                W01001958|\n",
      "+-------+--------------+------------------+------------------+---------------------+----------------------+-------------------+------------------+------------------+------------------+------------------+--------------------+----------+------------------+------+------------------------+----------------------------+-----------------------+------------------+-----------------+-----------------+-----------------+------------------+------------------+------------------+------------------+---------------------------------+---------------------------------------+------------------+------------------+-----------------------+--------------------------+-------------------+-------------------+-------------------------------------------+------------------+-------------------------+\n",
      "\n"
     ]
    }
   ],
   "source": [
    "# Get summary statistics for each column\n",
    "accident_P2734493DF.describe().show()"
   ]
  },
  {
   "cell_type": "markdown",
   "id": "aec5bc56",
   "metadata": {
    "papermill": {
     "duration": 0.033544,
     "end_time": "2023-05-04T19:18:59.608962",
     "exception": false,
     "start_time": "2023-05-04T19:18:59.575418",
     "status": "completed"
    },
    "tags": []
   },
   "source": [
    "You can also use the describe() function to get summary statistics for each column, including the count, mean, standard deviation, minimum, and maximum values. The describe() function excludes missing values by default, so this can be a quick way to check if any columns have missing values:"
   ]
  },
  {
   "cell_type": "code",
   "execution_count": 14,
   "id": "dcbb8c22",
   "metadata": {
    "execution": {
     "iopub.execute_input": "2023-05-04T19:18:59.679729Z",
     "iopub.status.busy": "2023-05-04T19:18:59.678857Z",
     "iopub.status.idle": "2023-05-04T19:19:00.236711Z",
     "shell.execute_reply": "2023-05-04T19:19:00.235622Z"
    },
    "papermill": {
     "duration": 0.597252,
     "end_time": "2023-05-04T19:19:00.240089",
     "exception": false,
     "start_time": "2023-05-04T19:18:59.642837",
     "status": "completed"
    },
    "tags": []
   },
   "outputs": [
    {
     "data": {
      "text/plain": [
       "562439"
      ]
     },
     "execution_count": 14,
     "metadata": {},
     "output_type": "execute_result"
    }
   ],
   "source": [
    "accident_P2734493DF.count()"
   ]
  },
  {
   "cell_type": "code",
   "execution_count": 15,
   "id": "0b1f0ea8",
   "metadata": {
    "execution": {
     "iopub.execute_input": "2023-05-04T19:19:00.310048Z",
     "iopub.status.busy": "2023-05-04T19:19:00.309552Z",
     "iopub.status.idle": "2023-05-04T19:19:00.445889Z",
     "shell.execute_reply": "2023-05-04T19:19:00.444682Z"
    },
    "papermill": {
     "duration": 0.174887,
     "end_time": "2023-05-04T19:19:00.448614",
     "exception": false,
     "start_time": "2023-05-04T19:19:00.273727",
     "status": "completed"
    },
    "tags": []
   },
   "outputs": [
    {
     "name": "stdout",
     "output_type": "stream",
     "text": [
      "+----------------+\n",
      "|Light_Conditions|\n",
      "+----------------+\n",
      "|               4|\n",
      "|               4|\n",
      "|               4|\n",
      "|               4|\n",
      "|               4|\n",
      "|               4|\n",
      "|               4|\n",
      "|               4|\n",
      "|               4|\n",
      "|               4|\n",
      "|               4|\n",
      "|               4|\n",
      "|               6|\n",
      "|               1|\n",
      "|               7|\n",
      "|               1|\n",
      "|               4|\n",
      "|               5|\n",
      "|               4|\n",
      "|               4|\n",
      "+----------------+\n",
      "only showing top 20 rows\n",
      "\n"
     ]
    }
   ],
   "source": [
    "accident_P2734493DF.select(\"Light_Conditions\").show()"
   ]
  },
  {
   "cell_type": "markdown",
   "id": "db526b6e",
   "metadata": {
    "papermill": {
     "duration": 0.025123,
     "end_time": "2023-05-04T19:19:00.497254",
     "exception": false,
     "start_time": "2023-05-04T19:19:00.472131",
     "status": "completed"
    },
    "tags": []
   },
   "source": [
    "### Group the data by year to Analyze trends over years"
   ]
  },
  {
   "cell_type": "code",
   "execution_count": 16,
   "id": "f3bbfb8a",
   "metadata": {
    "execution": {
     "iopub.execute_input": "2023-05-04T19:19:00.545249Z",
     "iopub.status.busy": "2023-05-04T19:19:00.544774Z",
     "iopub.status.idle": "2023-05-04T19:19:02.891413Z",
     "shell.execute_reply": "2023-05-04T19:19:02.890309Z"
    },
    "papermill": {
     "duration": 2.374063,
     "end_time": "2023-05-04T19:19:02.894799",
     "exception": false,
     "start_time": "2023-05-04T19:19:00.520736",
     "status": "completed"
    },
    "tags": []
   },
   "outputs": [
    {
     "name": "stderr",
     "output_type": "stream",
     "text": [
      "[Stage 14:>                                                         (0 + 2) / 2]\r"
     ]
    },
    {
     "name": "stdout",
     "output_type": "stream",
     "text": [
      "+----+---------------+\n",
      "|Year|Total_Accidents|\n",
      "+----+---------------+\n",
      "|2017|         129982|\n",
      "|2018|         122635|\n",
      "|2019|         117536|\n",
      "|2020|          91199|\n",
      "|2021|         101087|\n",
      "+----+---------------+\n",
      "\n"
     ]
    },
    {
     "name": "stderr",
     "output_type": "stream",
     "text": [
      "                                                                                \r"
     ]
    }
   ],
   "source": [
    "# Create a temporary view of the DataFrame\n",
    "accident_P2734493DF.createOrReplaceTempView(\"accidents\")\n",
    "\n",
    "# Group the data by year and calculate the average number of casualties and vehicles involved in each accident\n",
    "query = \"SELECT accident_year AS Year, COUNT(*) AS Total_Accidents FROM accidents GROUP BY accident_year ORDER BY Year\"\n",
    "\n",
    "# Execute the query and store the results in a new DataFrame\n",
    "trends_by_year = spark.sql(query)\n",
    "\n",
    "# Print the results\n",
    "trends_by_year.show()"
   ]
  },
  {
   "cell_type": "markdown",
   "id": "1bcd8d6e",
   "metadata": {
    "papermill": {
     "duration": 0.034112,
     "end_time": "2023-05-04T19:19:02.964608",
     "exception": false,
     "start_time": "2023-05-04T19:19:02.930496",
     "status": "completed"
    },
    "tags": []
   },
   "source": [
    "### Visualize Trends over Years using Bar chart"
   ]
  },
  {
   "cell_type": "code",
   "execution_count": 17,
   "id": "17706382",
   "metadata": {
    "execution": {
     "iopub.execute_input": "2023-05-04T19:19:03.036669Z",
     "iopub.status.busy": "2023-05-04T19:19:03.035876Z",
     "iopub.status.idle": "2023-05-04T19:19:04.771152Z",
     "shell.execute_reply": "2023-05-04T19:19:04.770269Z"
    },
    "papermill": {
     "duration": 1.775173,
     "end_time": "2023-05-04T19:19:04.773978",
     "exception": false,
     "start_time": "2023-05-04T19:19:02.998805",
     "status": "completed"
    },
    "tags": []
   },
   "outputs": [
    {
     "name": "stderr",
     "output_type": "stream",
     "text": [
      "                                                                                \r"
     ]
    },
    {
     "data": {
      "image/png": "[encoded data removed]",
      "text/plain": [
       "<Figure size 640x480 with 1 Axes>"
      ]
     },
     "metadata": {},
     "output_type": "display_data"
    }
   ],
   "source": [
    "# Group the data by year and count the number of accidents in each year\n",
    "accidents_by_year = accident_P2734493DF.groupBy(\"accident_year\").count().orderBy(\"accident_year\")\n",
    "\n",
    "# Convert PySpark DataFrame to Pandas DataFrame\n",
    "accidents_by_year_pd = accidents_by_year.toPandas()\n",
    "\n",
    "# Plot the data\n",
    "accidents_by_year_pd.plot(kind='bar', x='accident_year', y='count')\n",
    "\n",
    "# Set the title and axis labels\n",
    "plt.title('Number of accidents by year')\n",
    "plt.xlabel('Year')\n",
    "plt.ylabel('Number of accidents')\n",
    "plt.xticks(rotation=0, ha=\"right\")\n",
    "\n",
    "# Show the plot\n",
    "plt.show()"
   ]
  },
  {
   "cell_type": "markdown",
   "id": "3648cd2a",
   "metadata": {
    "papermill": {
     "duration": 0.024982,
     "end_time": "2023-05-04T19:19:04.827317",
     "exception": false,
     "start_time": "2023-05-04T19:19:04.802335",
     "status": "completed"
    },
    "tags": []
   },
   "source": [
    "### Analyse most commont type of Accidents"
   ]
  },
  {
   "cell_type": "code",
   "execution_count": 18,
   "id": "66b3320a",
   "metadata": {
    "execution": {
     "iopub.execute_input": "2023-05-04T19:19:04.878264Z",
     "iopub.status.busy": "2023-05-04T19:19:04.877135Z",
     "iopub.status.idle": "2023-05-04T19:19:06.098942Z",
     "shell.execute_reply": "2023-05-04T19:19:06.097802Z"
    },
    "papermill": {
     "duration": 1.249949,
     "end_time": "2023-05-04T19:19:06.102054",
     "exception": false,
     "start_time": "2023-05-04T19:19:04.852105",
     "status": "completed"
    },
    "tags": []
   },
   "outputs": [
    {
     "name": "stderr",
     "output_type": "stream",
     "text": [
      "[Stage 25:>                                                         (0 + 2) / 2]\r"
     ]
    },
    {
     "name": "stdout",
     "output_type": "stream",
     "text": [
      "+-----------------+---------+------+\n",
      "|accident_severity|road_type| count|\n",
      "+-----------------+---------+------+\n",
      "|                3|        6|317750|\n",
      "|                2|        6| 83706|\n",
      "|                3|        3| 70292|\n",
      "|                3|        1| 29489|\n",
      "|                2|        3| 15049|\n",
      "|                3|        2| 11458|\n",
      "|                3|        9| 10580|\n",
      "|                3|        7|  7057|\n",
      "|                1|        6|  5981|\n",
      "|                2|        1|  4778|\n",
      "+-----------------+---------+------+\n",
      "only showing top 10 rows\n",
      "\n"
     ]
    },
    {
     "name": "stderr",
     "output_type": "stream",
     "text": [
      "                                                                                \r"
     ]
    }
   ],
   "source": [
    "# Select relevant columns related to accident type\n",
    "accident_type_df = accident_P2734493DF.select(\"accident_severity\", \"road_type\", \"accident_index\")\n",
    "\n",
    "# Group data by accident type and severity\n",
    "grouped_df = accident_type_df.groupBy(\"accident_severity\", \"road_type\")\n",
    "\n",
    "# Count the number of accidents for each accident type and severity combination\n",
    "count_df = grouped_df.count()\n",
    "\n",
    "# Sort the data in descending order to determine the most common types of accidents\n",
    "most_common_df = count_df.orderBy(\"count\", ascending=False)\n",
    "\n",
    "# Show the top 10 most common types of accidents\n",
    "most_common_df.show(10)"
   ]
  },
  {
   "cell_type": "markdown",
   "id": "c257b81a",
   "metadata": {
    "papermill": {
     "duration": 0.036449,
     "end_time": "2023-05-04T19:19:06.176201",
     "exception": false,
     "start_time": "2023-05-04T19:19:06.139752",
     "status": "completed"
    },
    "tags": []
   },
   "source": [
    "### Visualize Most Common Type of Accidents "
   ]
  },
  {
   "cell_type": "code",
   "execution_count": 19,
   "id": "96cf9cff",
   "metadata": {
    "execution": {
     "iopub.execute_input": "2023-05-04T19:19:06.253103Z",
     "iopub.status.busy": "2023-05-04T19:19:06.252632Z",
     "iopub.status.idle": "2023-05-04T19:19:07.752968Z",
     "shell.execute_reply": "2023-05-04T19:19:07.751875Z"
    },
    "papermill": {
     "duration": 1.541612,
     "end_time": "2023-05-04T19:19:07.755564",
     "exception": false,
     "start_time": "2023-05-04T19:19:06.213952",
     "status": "completed"
    },
    "tags": []
   },
   "outputs": [
    {
     "name": "stderr",
     "output_type": "stream",
     "text": [
      "                                                                                \r"
     ]
    },
    {
     "data": {
      "image/png": "[encoded data removed]",
      "text/plain": [
       "<Figure size 640x480 with 1 Axes>"
      ]
     },
     "metadata": {},
     "output_type": "display_data"
    }
   ],
   "source": [
    "# Convert the PySpark DataFrame to a Pandas DataFrame\n",
    "pandas_df = most_common_df.toPandas()\n",
    "\n",
    "# Create a scatter plot\n",
    "plt.scatter(x=pandas_df[\"road_type\"], y=pandas_df[\"count\"])\n",
    "plt.xlabel(\"Road Type\")\n",
    "plt.ylabel(\"Number of Accidents\")\n",
    "plt.show()\n"
   ]
  },
  {
   "cell_type": "markdown",
   "id": "5f8aad14",
   "metadata": {
    "papermill": {
     "duration": 0.023838,
     "end_time": "2023-05-04T19:19:07.803644",
     "exception": false,
     "start_time": "2023-05-04T19:19:07.779806",
     "status": "completed"
    },
    "tags": []
   },
   "source": [
    "### Analyze Accident based on Region"
   ]
  },
  {
   "cell_type": "code",
   "execution_count": 20,
   "id": "d90b2e78",
   "metadata": {
    "execution": {
     "iopub.execute_input": "2023-05-04T19:19:07.859615Z",
     "iopub.status.busy": "2023-05-04T19:19:07.858293Z",
     "iopub.status.idle": "2023-05-04T19:19:10.609345Z",
     "shell.execute_reply": "2023-05-04T19:19:10.608109Z"
    },
    "papermill": {
     "duration": 2.785582,
     "end_time": "2023-05-04T19:19:10.612952",
     "exception": false,
     "start_time": "2023-05-04T19:19:07.827370",
     "status": "completed"
    },
    "tags": []
   },
   "outputs": [
    {
     "name": "stderr",
     "output_type": "stream",
     "text": [
      "[Stage 38:>                                                         (0 + 2) / 2]\r"
     ]
    },
    {
     "name": "stdout",
     "output_type": "stream",
     "text": [
      "+---------------------+-------------+-----+\n",
      "|location_easting_osgr|accident_year|count|\n",
      "+---------------------+-------------+-----+\n",
      "|                 NULL|         2018|   55|\n",
      "|               533650|         2017|   49|\n",
      "|               533650|         2018|   40|\n",
      "|               530980|         2017|   38|\n",
      "|               533670|         2017|   37|\n",
      "|               531640|         2017|   35|\n",
      "|               531190|         2018|   35|\n",
      "|               531170|         2017|   34|\n",
      "|               532540|         2017|   33|\n",
      "|               534940|         2017|   33|\n",
      "+---------------------+-------------+-----+\n",
      "only showing top 10 rows\n",
      "\n"
     ]
    },
    {
     "name": "stderr",
     "output_type": "stream",
     "text": [
      "                                                                                \r"
     ]
    }
   ],
   "source": [
    "# Select relevant columns related to accident type\n",
    "region_type_df = accident_P2734493DF.select(\"location_easting_osgr\", \"accident_year\", \"urban_or_rural_area\")\n",
    "\n",
    "# Group data by accident type and severity\n",
    "group_df = region_type_df.groupBy(\"location_easting_osgr\", \"accident_year\")\n",
    "\n",
    "# Count the number of accidents for each accident type and severity combination\n",
    "counts_df = group_df.count()\n",
    "\n",
    "# Sort the data in descending order to determine the most common types of accidents\n",
    "mostcommon_df = counts_df.orderBy(\"count\", ascending=False)\n",
    "\n",
    "# Show the top 10 most common types of accidents\n",
    "mostcommon_df.show(10)"
   ]
  },
  {
   "cell_type": "markdown",
   "id": "975e460f",
   "metadata": {
    "papermill": {
     "duration": 0.035728,
     "end_time": "2023-05-04T19:19:10.689215",
     "exception": false,
     "start_time": "2023-05-04T19:19:10.653487",
     "status": "completed"
    },
    "tags": []
   },
   "source": [
    "### Analyze the relationship between weather conditions and accident rates"
   ]
  },
  {
   "cell_type": "code",
   "execution_count": 21,
   "id": "d7342f22",
   "metadata": {
    "execution": {
     "iopub.execute_input": "2023-05-04T19:19:10.757896Z",
     "iopub.status.busy": "2023-05-04T19:19:10.757480Z",
     "iopub.status.idle": "2023-05-04T19:19:11.771720Z",
     "shell.execute_reply": "2023-05-04T19:19:11.770516Z"
    },
    "papermill": {
     "duration": 1.049011,
     "end_time": "2023-05-04T19:19:11.774451",
     "exception": false,
     "start_time": "2023-05-04T19:19:10.725440",
     "status": "completed"
    },
    "tags": []
   },
   "outputs": [
    {
     "name": "stderr",
     "output_type": "stream",
     "text": [
      "[Stage 39:=============================>                            (1 + 1) / 2]\r"
     ]
    },
    {
     "name": "stdout",
     "output_type": "stream",
     "text": [
      "+------------------+------+\n",
      "|weather_conditions| count|\n",
      "+------------------+------+\n",
      "|                -1|    33|\n",
      "|                 1|448634|\n",
      "|                 6|   705|\n",
      "|                 3|  2860|\n",
      "|                 5|  6508|\n",
      "|                 9| 16861|\n",
      "|                 4|  5881|\n",
      "|                 8| 14162|\n",
      "|                 7|  2404|\n",
      "|                 2| 64391|\n",
      "+------------------+------+\n",
      "\n"
     ]
    },
    {
     "name": "stderr",
     "output_type": "stream",
     "text": [
      "                                                                                \r"
     ]
    }
   ],
   "source": [
    "from pyspark.sql.functions import count, when\n",
    "import pyspark.sql.functions as F\n",
    "import matplotlib.pyplot as plt\n",
    "\n",
    "# Select relevant columns related to weather conditions and accidents\n",
    "weather_accidents_df = accident_P2734493DF.select(\"weather_conditions\", \"accident_index\")\n",
    "\n",
    "# Group data by weather conditions\n",
    "grouped_df = weather_accidents_df.groupBy(\"weather_conditions\")\n",
    "\n",
    "# Count the number of accidents for each weather condition\n",
    "count_df = grouped_df.count()\n",
    "\n",
    "count_df.show()"
   ]
  },
  {
   "cell_type": "markdown",
   "id": "8a79fcbc",
   "metadata": {
    "papermill": {
     "duration": 0.024432,
     "end_time": "2023-05-04T19:19:11.824372",
     "exception": false,
     "start_time": "2023-05-04T19:19:11.799940",
     "status": "completed"
    },
    "tags": []
   },
   "source": [
    "### Visualize  the relationship between weather conditions and accident rates"
   ]
  },
  {
   "cell_type": "code",
   "execution_count": 22,
   "id": "88944568",
   "metadata": {
    "execution": {
     "iopub.execute_input": "2023-05-04T19:19:11.875782Z",
     "iopub.status.busy": "2023-05-04T19:19:11.875132Z",
     "iopub.status.idle": "2023-05-04T19:19:13.516867Z",
     "shell.execute_reply": "2023-05-04T19:19:13.515730Z"
    },
    "papermill": {
     "duration": 1.670289,
     "end_time": "2023-05-04T19:19:13.519386",
     "exception": false,
     "start_time": "2023-05-04T19:19:11.849097",
     "status": "completed"
    },
    "tags": []
   },
   "outputs": [
    {
     "name": "stderr",
     "output_type": "stream",
     "text": [
      "                                                                                \r"
     ]
    },
    {
     "data": {
      "image/png": "[encoded data removed]",
      "text/plain": [
       "<Figure size 640x480 with 2 Axes>"
      ]
     },
     "metadata": {},
     "output_type": "display_data"
    }
   ],
   "source": [
    "pandas_df = count_df.toPandas()\n",
    "\n",
    "# Create a heatmap using seaborn library\n",
    "import seaborn as sns\n",
    "import matplotlib.pyplot as plt\n",
    "\n",
    "sns.heatmap(pandas_df, cmap=\"YlGnBu\")\n",
    "plt.show()"
   ]
  },
  {
   "cell_type": "code",
   "execution_count": 23,
   "id": "7db37556",
   "metadata": {
    "execution": {
     "iopub.execute_input": "2023-05-04T19:19:13.571418Z",
     "iopub.status.busy": "2023-05-04T19:19:13.570675Z",
     "iopub.status.idle": "2023-05-04T19:19:16.720694Z",
     "shell.execute_reply": "2023-05-04T19:19:16.719657Z"
    },
    "papermill": {
     "duration": 3.178597,
     "end_time": "2023-05-04T19:19:16.722952",
     "exception": false,
     "start_time": "2023-05-04T19:19:13.544355",
     "status": "completed"
    },
    "tags": []
   },
   "outputs": [
    {
     "name": "stderr",
     "output_type": "stream",
     "text": [
      "                                                                                \r"
     ]
    },
    {
     "data": {
      "image/png": "[encoded data removed]",
      "text/plain": [
       "<Figure size 640x480 with 1 Axes>"
      ]
     },
     "metadata": {},
     "output_type": "display_data"
    }
   ],
   "source": [
    "# Plot a bar chart of the number of accidents by weather condition\n",
    "x = count_df.select(\"weather_conditions\").rdd.flatMap(lambda x: x).collect()\n",
    "y = count_df.select(\"count\").rdd.flatMap(lambda x: x).collect()\n",
    "plt.bar(x, y)\n",
    "plt.xticks(rotation=90)\n",
    "plt.xlabel(\"Weather Conditions\")\n",
    "plt.ylabel(\"Number of Accidents\")\n",
    "plt.show()"
   ]
  },
  {
   "cell_type": "code",
   "execution_count": 24,
   "id": "95b89ea5",
   "metadata": {
    "execution": {
     "iopub.execute_input": "2023-05-04T19:19:16.776216Z",
     "iopub.status.busy": "2023-05-04T19:19:16.775839Z",
     "iopub.status.idle": "2023-05-04T19:19:23.814150Z",
     "shell.execute_reply": "2023-05-04T19:19:23.812745Z"
    },
    "papermill": {
     "duration": 7.069287,
     "end_time": "2023-05-04T19:19:23.817813",
     "exception": false,
     "start_time": "2023-05-04T19:19:16.748526",
     "status": "completed"
    },
    "tags": []
   },
   "outputs": [
    {
     "name": "stderr",
     "output_type": "stream",
     "text": [
      "23/05/04 19:19:20 WARN Instrumentation: [b1d5f5fe] All labels are the same value and fitIntercept=true, so the coefficients will be zeros. Training is not needed.\n",
      "[Stage 57:=============================>                            (1 + 1) / 2]\r"
     ]
    },
    {
     "name": "stdout",
     "output_type": "stream",
     "text": [
      "Area under the curve: 1.00\n"
     ]
    },
    {
     "name": "stderr",
     "output_type": "stream",
     "text": [
      "                                                                                \r"
     ]
    }
   ],
   "source": [
    "# Import necessary libraries\n",
    "from pyspark.ml.classification import LogisticRegression\n",
    "from pyspark.ml.feature import VectorAssembler\n",
    "from pyspark.ml.evaluation import BinaryClassificationEvaluator\n",
    "\n",
    "\n",
    "# Select relevant columns related to weather conditions and number of accidents\n",
    "weather_df = accident_P2734493DF.select(\"weather_conditions\", \"number_of_vehicles\", \"number_of_casualties\")\n",
    "\n",
    "# Create a binary variable for whether or not there was an accident\n",
    "binary_df = weather_df.withColumn(\"Accident\", (weather_df[\"number_of_vehicles\"] + weather_df[\"number_of_casualties\"] > 0).cast(\"integer\"))\n",
    "\n",
    "# Convert categorical variable to numerical using one-hot encoding\n",
    "encoded_df = binary_df.select(\"Accident\", \"weather_conditions\") \\\n",
    "                      .groupBy(\"weather_conditions\") \\\n",
    "                      .agg({\"Accident\": \"sum\"}) \\\n",
    "                      .withColumnRenamed(\"sum(Accident)\", \"Accidents\") \\\n",
    "                      .withColumn(\"label\", F.when(F.col(\"Accidents\") > 0, 1).otherwise(0))\n",
    "\n",
    "# Vectorize the features\n",
    "assembler = VectorAssembler(inputCols=[\"weather_conditions\"], outputCol=\"features\")\n",
    "vectorized_df = assembler.transform(encoded_df)\n",
    "\n",
    "# Split the data into training and testing sets\n",
    "(training_data, testing_data) = vectorized_df.randomSplit([0.7, 0.3], seed=100)\n",
    "\n",
    "# Train a logistic regression model\n",
    "logistic_regression = LogisticRegression(labelCol=\"label\", featuresCol=\"features\", maxIter=10)\n",
    "model = logistic_regression.fit(training_data)\n",
    "\n",
    "# Make predictions on the testing data\n",
    "predictions = model.transform(testing_data)\n",
    "\n",
    "# Evaluate the model's performance\n",
    "evaluator = BinaryClassificationEvaluator(labelCol=\"label\", rawPredictionCol=\"rawPrediction\")\n",
    "area_under_curve = evaluator.evaluate(predictions)\n",
    "\n",
    "# Print the area under the curve\n",
    "print(\"Area under the curve: {:.2f}\".format(area_under_curve))\n"
   ]
  },
  {
   "cell_type": "markdown",
   "id": "3033c343",
   "metadata": {
    "papermill": {
     "duration": 0.040313,
     "end_time": "2023-05-04T19:19:23.899705",
     "exception": false,
     "start_time": "2023-05-04T19:19:23.859392",
     "status": "completed"
    },
    "tags": []
   },
   "source": [
    "The logistic regression is used to determine the significance of the relationship between weather conditions and the number of accidents. From the output, we can see that the logistic regression model achieved an area under the curve (AUC) value of 1.00.\n",
    "\n",
    "This means that there is a good relationship between weather conditions and the number of accidents. However, the AUC value is high enough to conclude that weather conditions have a significant impact on the number of accidents."
   ]
  },
  {
   "cell_type": "markdown",
   "id": "e775cee2",
   "metadata": {
    "papermill": {
     "duration": 0.042292,
     "end_time": "2023-05-04T19:19:23.982109",
     "exception": false,
     "start_time": "2023-05-04T19:19:23.939817",
     "status": "completed"
    },
    "tags": []
   },
   "source": [
    "### REGISTER THE DATAFRAME AS A TABLE"
   ]
  },
  {
   "cell_type": "code",
   "execution_count": 25,
   "id": "4496080b",
   "metadata": {
    "execution": {
     "iopub.execute_input": "2023-05-04T19:19:24.063778Z",
     "iopub.status.busy": "2023-05-04T19:19:24.063153Z",
     "iopub.status.idle": "2023-05-04T19:19:24.078504Z",
     "shell.execute_reply": "2023-05-04T19:19:24.077301Z"
    },
    "papermill": {
     "duration": 0.058451,
     "end_time": "2023-05-04T19:19:24.081619",
     "exception": false,
     "start_time": "2023-05-04T19:19:24.023168",
     "status": "completed"
    },
    "tags": []
   },
   "outputs": [],
   "source": [
    "sqlContext.registerDataFrameAsTable(accident_P2734493DF, \"tbAccidents_last5years\")"
   ]
  },
  {
   "cell_type": "markdown",
   "id": "9f11df4a",
   "metadata": {
    "papermill": {
     "duration": 0.03836,
     "end_time": "2023-05-04T19:19:24.159072",
     "exception": false,
     "start_time": "2023-05-04T19:19:24.120712",
     "status": "completed"
    },
    "tags": []
   },
   "source": [
    "#### Run SQL Queries on table"
   ]
  },
  {
   "cell_type": "code",
   "execution_count": 26,
   "id": "7e90dd12",
   "metadata": {
    "execution": {
     "iopub.execute_input": "2023-05-04T19:19:24.239818Z",
     "iopub.status.busy": "2023-05-04T19:19:24.239343Z",
     "iopub.status.idle": "2023-05-04T19:19:24.325824Z",
     "shell.execute_reply": "2023-05-04T19:19:24.324790Z"
    },
    "papermill": {
     "duration": 0.129,
     "end_time": "2023-05-04T19:19:24.328560",
     "exception": false,
     "start_time": "2023-05-04T19:19:24.199560",
     "status": "completed"
    },
    "tags": []
   },
   "outputs": [
    {
     "data": {
      "text/plain": [
       "[Row(accident_index='2017010001708', accident_year=2017, accident_reference='010001708', location_easting_osgr='532920', location_northing_osgr='196330', longitude='-0.080107', latitude='51.650061', police_force=1, accident_severity=1, number_of_vehicles=2, number_of_casualties=3, date='05/08/2017', day_of_week=7, time='03:12', local_authority_district=32, local_authority_ons_district='E09000010', local_authority_highway='E09000010', first_road_class=3, first_road_number=105, road_type=6, speed_limit=30, junction_detail=0, junction_control=-1, second_road_class=-1, second_road_number=-1, pedestrian_crossing_human_control=0, pedestrian_crossing_physical_facilities=0, light_conditions=4, weather_conditions=1, road_surface_conditions=1, special_conditions_at_site=0, carriageway_hazards=0, urban_or_rural_area=1, did_police_officer_attend_scene_of_accident=1, trunk_road_flag=2, lsoa_of_accident_location='E01001450'),\n",
       " Row(accident_index='2017010009342', accident_year=2017, accident_reference='010009342', location_easting_osgr='526790', location_northing_osgr='181970', longitude='-0.173845', latitude='51.522425', police_force=1, accident_severity=3, number_of_vehicles=2, number_of_casualties=1, date='01/01/2017', day_of_week=1, time='01:30', local_authority_district=1, local_authority_ons_district='E09000033', local_authority_highway='E09000033', first_road_class=3, first_road_number=5, road_type=6, speed_limit=30, junction_detail=3, junction_control=4, second_road_class=6, second_road_number=0, pedestrian_crossing_human_control=0, pedestrian_crossing_physical_facilities=0, light_conditions=4, weather_conditions=1, road_surface_conditions=2, special_conditions_at_site=0, carriageway_hazards=0, urban_or_rural_area=1, did_police_officer_attend_scene_of_accident=1, trunk_road_flag=2, lsoa_of_accident_location='E01004702')]"
      ]
     },
     "execution_count": 26,
     "metadata": {},
     "output_type": "execute_result"
    }
   ],
   "source": [
    "sqlContext.sql(\"select * from tbAccidents_last5years\").take(2)"
   ]
  },
  {
   "cell_type": "markdown",
   "id": "c09e7338",
   "metadata": {
    "papermill": {
     "duration": 0.040091,
     "end_time": "2023-05-04T19:19:24.408388",
     "exception": false,
     "start_time": "2023-05-04T19:19:24.368297",
     "status": "completed"
    },
    "tags": []
   },
   "source": [
    "### Time and Data of accident with the Speed limit"
   ]
  },
  {
   "cell_type": "code",
   "execution_count": 27,
   "id": "3e2ccaef",
   "metadata": {
    "execution": {
     "iopub.execute_input": "2023-05-04T19:19:24.478259Z",
     "iopub.status.busy": "2023-05-04T19:19:24.477868Z",
     "iopub.status.idle": "2023-05-04T19:19:24.619655Z",
     "shell.execute_reply": "2023-05-04T19:19:24.618870Z"
    },
    "papermill": {
     "duration": 0.172186,
     "end_time": "2023-05-04T19:19:24.621866",
     "exception": false,
     "start_time": "2023-05-04T19:19:24.449680",
     "status": "completed"
    },
    "tags": []
   },
   "outputs": [
    {
     "name": "stdout",
     "output_type": "stream",
     "text": [
      "+----------+-----+-----------+\n",
      "|      date| time|speed_limit|\n",
      "+----------+-----+-----------+\n",
      "|05/08/2017|03:12|         30|\n",
      "|01/01/2017|01:30|         30|\n",
      "|01/01/2017|00:30|         30|\n",
      "|01/01/2017|01:11|         30|\n",
      "|01/01/2017|01:42|         20|\n",
      "|01/01/2017|03:31|         30|\n",
      "|01/01/2017|04:07|         40|\n",
      "|01/01/2017|05:20|         30|\n",
      "|01/01/2017|03:18|         50|\n",
      "|01/01/2017|03:00|         30|\n",
      "|01/01/2017|05:00|         30|\n",
      "|01/01/2017|06:55|         30|\n",
      "|01/01/2017|10:45|         30|\n",
      "|01/01/2017|08:15|         30|\n",
      "|01/01/2017|01:15|         20|\n",
      "|01/01/2017|10:25|         30|\n",
      "|01/01/2017|16:48|         20|\n",
      "|01/01/2017|05:10|         30|\n",
      "|01/01/2017|18:06|         30|\n",
      "|01/01/2017|16:55|         30|\n",
      "+----------+-----+-----------+\n",
      "only showing top 20 rows\n",
      "\n"
     ]
    }
   ],
   "source": [
    "# Date Time and Speed Limit\n",
    "sqlContext.sql(\"select date,time,speed_limit from tbAccidents_last5years\").show()"
   ]
  },
  {
   "cell_type": "code",
   "execution_count": 28,
   "id": "ef1e9fc2",
   "metadata": {
    "execution": {
     "iopub.execute_input": "2023-05-04T19:19:24.676910Z",
     "iopub.status.busy": "2023-05-04T19:19:24.676490Z",
     "iopub.status.idle": "2023-05-04T19:19:25.962142Z",
     "shell.execute_reply": "2023-05-04T19:19:25.961008Z"
    },
    "papermill": {
     "duration": 1.316646,
     "end_time": "2023-05-04T19:19:25.965032",
     "exception": false,
     "start_time": "2023-05-04T19:19:24.648386",
     "status": "completed"
    },
    "tags": []
   },
   "outputs": [
    {
     "name": "stderr",
     "output_type": "stream",
     "text": [
      "                                                                                \r"
     ]
    },
    {
     "data": {
      "text/plain": [
       "112"
      ]
     },
     "execution_count": 28,
     "metadata": {},
     "output_type": "execute_result"
    }
   ],
   "source": [
    "# Total rows returned for Casualties per day of week\n",
    "sqlContext.sql(\"select Day_of_Week, Number_of_Casualties, count(*) as Count from tbAccidents_last5years group \\\n",
    "by Day_of_Week, Number_of_Casualties\").count()"
   ]
  },
  {
   "cell_type": "code",
   "execution_count": 29,
   "id": "a5dbeae5",
   "metadata": {
    "execution": {
     "iopub.execute_input": "2023-05-04T19:19:26.033937Z",
     "iopub.status.busy": "2023-05-04T19:19:26.033305Z",
     "iopub.status.idle": "2023-05-04T19:19:27.031580Z",
     "shell.execute_reply": "2023-05-04T19:19:27.030443Z"
    },
    "papermill": {
     "duration": 1.030774,
     "end_time": "2023-05-04T19:19:27.035660",
     "exception": false,
     "start_time": "2023-05-04T19:19:26.004886",
     "status": "completed"
    },
    "tags": []
   },
   "outputs": [
    {
     "name": "stderr",
     "output_type": "stream",
     "text": [
      "[Stage 78:>                                                         (0 + 2) / 2]\r"
     ]
    },
    {
     "name": "stdout",
     "output_type": "stream",
     "text": [
      "+-----------+--------------------+-----+\n",
      "|Day_of_Week|Number_of_Casualties|Count|\n",
      "+-----------+--------------------+-----+\n",
      "|          5|                  33|    1|\n",
      "|          4|                  10|    4|\n",
      "|          6|                   1|74128|\n",
      "|          3|                   1|67596|\n",
      "|          7|                   4| 1432|\n",
      "|          2|                   2|11049|\n",
      "|          7|                  14|    1|\n",
      "|          1|                   7|   65|\n",
      "|          2|                   3| 2999|\n",
      "|          7|                   1|58048|\n",
      "|          4|                   7|   40|\n",
      "|          1|                   2| 9783|\n",
      "|          4|                  27|    1|\n",
      "|          1|                   9|    8|\n",
      "|          5|                   7|   38|\n",
      "|          5|                   6|   85|\n",
      "|          4|                  11|    2|\n",
      "|          6|                   8|   18|\n",
      "|          1|                   1|48522|\n",
      "|          6|                   5|  399|\n",
      "+-----------+--------------------+-----+\n",
      "only showing top 20 rows\n",
      "\n"
     ]
    },
    {
     "name": "stderr",
     "output_type": "stream",
     "text": [
      "                                                                                \r"
     ]
    }
   ],
   "source": [
    "# Casualties per day of week\n",
    "sqlContext.sql(\"select Day_of_Week, Number_of_Casualties, count(*) as Count from tbAccidents_last5years group \\\n",
    "by Day_of_Week, Number_of_Casualties\").show()"
   ]
  },
  {
   "cell_type": "markdown",
   "id": "dedfd139",
   "metadata": {
    "papermill": {
     "duration": 0.027476,
     "end_time": "2023-05-04T19:19:27.093626",
     "exception": false,
     "start_time": "2023-05-04T19:19:27.066150",
     "status": "completed"
    },
    "tags": []
   },
   "source": [
    "### Factors Affecting the Accidents"
   ]
  },
  {
   "cell_type": "code",
   "execution_count": 30,
   "id": "9d191f06",
   "metadata": {
    "execution": {
     "iopub.execute_input": "2023-05-04T19:19:27.149544Z",
     "iopub.status.busy": "2023-05-04T19:19:27.149147Z",
     "iopub.status.idle": "2023-05-04T19:19:28.229910Z",
     "shell.execute_reply": "2023-05-04T19:19:28.228745Z"
    },
    "papermill": {
     "duration": 1.111513,
     "end_time": "2023-05-04T19:19:28.232723",
     "exception": false,
     "start_time": "2023-05-04T19:19:27.121210",
     "status": "completed"
    },
    "tags": []
   },
   "outputs": [
    {
     "name": "stderr",
     "output_type": "stream",
     "text": [
      "[Stage 81:=============================>                            (1 + 1) / 2]\r"
     ]
    },
    {
     "name": "stdout",
     "output_type": "stream",
     "text": [
      "+-----------------------+-------------------+------+\n",
      "|road_surface_conditions|carriageway_hazards| Count|\n",
      "+-----------------------+-------------------+------+\n",
      "|                      1|                  0|393287|\n",
      "|                      3|                  1|     5|\n",
      "|                      2|                  2|  1705|\n",
      "|                      1|                  7|  1222|\n",
      "|                      2|                  3|   333|\n",
      "|                      4|                  7|    34|\n",
      "|                      1|                  2|  3701|\n",
      "|                      9|                  1|     2|\n",
      "|                     -1|                  6|     1|\n",
      "|                      4|                  0|  6688|\n",
      "|                      1|                  9|  2732|\n",
      "|                      1|                  1|   874|\n",
      "|                      4|                 -1|     6|\n",
      "|                      4|                  9|    13|\n",
      "|                      9|                  7|    22|\n",
      "|                      1|                  3|   516|\n",
      "|                      2|                  9|   697|\n",
      "|                      3|                  3|    39|\n",
      "|                      9|                  3|     1|\n",
      "|                      9|                  2|    16|\n",
      "+-----------------------+-------------------+------+\n",
      "only showing top 20 rows\n",
      "\n"
     ]
    },
    {
     "name": "stderr",
     "output_type": "stream",
     "text": [
      "                                                                                \r"
     ]
    }
   ],
   "source": [
    "# Factors affecting the accidents like Road surface conditin and Carriageway Hazards\n",
    "sqlContext.sql(\"select road_surface_conditions,carriageway_hazards, count(*) as Count from tbAccidents_last5years group \\\n",
    "by road_surface_conditions,carriageway_hazards\").show()"
   ]
  },
  {
   "cell_type": "markdown",
   "id": "dfefb7e6",
   "metadata": {
    "papermill": {
     "duration": 0.026796,
     "end_time": "2023-05-04T19:19:28.288128",
     "exception": false,
     "start_time": "2023-05-04T19:19:28.261332",
     "status": "completed"
    },
    "tags": []
   },
   "source": [
    "### Visualize Road Surface Condition and Accident Severity"
   ]
  },
  {
   "cell_type": "code",
   "execution_count": 31,
   "id": "b8643f04",
   "metadata": {
    "execution": {
     "iopub.execute_input": "2023-05-04T19:19:28.343355Z",
     "iopub.status.busy": "2023-05-04T19:19:28.342978Z",
     "iopub.status.idle": "2023-05-04T19:19:29.762106Z",
     "shell.execute_reply": "2023-05-04T19:19:29.761065Z"
    },
    "papermill": {
     "duration": 1.449118,
     "end_time": "2023-05-04T19:19:29.764278",
     "exception": false,
     "start_time": "2023-05-04T19:19:28.315160",
     "status": "completed"
    },
    "tags": []
   },
   "outputs": [
    {
     "name": "stderr",
     "output_type": "stream",
     "text": [
      "                                                                                \r"
     ]
    },
    {
     "data": {
      "image/png": "[encoded data removed]",
      "text/plain": [
       "<Figure size 1000x500 with 1 Axes>"
      ]
     },
     "metadata": {},
     "output_type": "display_data"
    }
   ],
   "source": [
    "factors = accident_P2734493DF.groupby(\"accident_severity\",\"road_surface_conditions\").count().sort(\"count\")\n",
    "\n",
    "import matplotlib.pyplot as plt\n",
    "import pandas as pd\n",
    "\n",
    "Panda_Accident_Type = factors.toPandas()\n",
    "\n",
    "%matplotlib inline\n",
    "\n",
    "plot_Outcome=Panda_Accident_Type.pivot(index='road_surface_conditions', columns='accident_severity', values='count') \\\n",
    "                         .plot(kind='bar', figsize=(10,5))\n",
    "plot_Outcome.set_title(\"Road Surface Condition vs Accident Severity\",color=\"b\")\n",
    "plot_Outcome.set_ylim(0,58000)\n",
    "plot_Outcome.set_xlabel(\"Speed Limit\",color=\"b\")\n",
    "plot_Outcome.set_ylabel(\"Road Surface Condition\",color=\"b\")\n",
    "plt.legend(loc='center left', bbox_to_anchor=(1, 0.5));"
   ]
  },
  {
   "cell_type": "code",
   "execution_count": 32,
   "id": "3a3751bb",
   "metadata": {
    "execution": {
     "iopub.execute_input": "2023-05-04T19:19:29.822655Z",
     "iopub.status.busy": "2023-05-04T19:19:29.821297Z",
     "iopub.status.idle": "2023-05-04T19:19:30.918913Z",
     "shell.execute_reply": "2023-05-04T19:19:30.917780Z"
    },
    "papermill": {
     "duration": 1.130639,
     "end_time": "2023-05-04T19:19:30.922487",
     "exception": false,
     "start_time": "2023-05-04T19:19:29.791848",
     "status": "completed"
    },
    "tags": []
   },
   "outputs": [
    {
     "name": "stderr",
     "output_type": "stream",
     "text": [
      "[Stage 92:=============================>                            (1 + 1) / 2]\r"
     ]
    },
    {
     "name": "stdout",
     "output_type": "stream",
     "text": [
      "+-----------+\n",
      "|Speed_Limit|\n",
      "+-----------+\n",
      "|         -1|\n",
      "|         20|\n",
      "|         40|\n",
      "|         50|\n",
      "|         70|\n",
      "|         60|\n",
      "|         30|\n",
      "+-----------+\n",
      "\n"
     ]
    },
    {
     "name": "stderr",
     "output_type": "stream",
     "text": [
      "                                                                                \r"
     ]
    }
   ],
   "source": [
    "# Return distinct list of Speed Limits\n",
    "\n",
    "sqlContext.sql(\"SELECT distinct Speed_Limit FROM tbAccidents_last5years\").show()"
   ]
  },
  {
   "cell_type": "markdown",
   "id": "e40b335e",
   "metadata": {
    "papermill": {
     "duration": 0.027584,
     "end_time": "2023-05-04T19:19:30.979964",
     "exception": false,
     "start_time": "2023-05-04T19:19:30.952380",
     "status": "completed"
    },
    "tags": []
   },
   "source": [
    "### Group the data By Date "
   ]
  },
  {
   "cell_type": "code",
   "execution_count": 33,
   "id": "f5d1d056",
   "metadata": {
    "execution": {
     "iopub.execute_input": "2023-05-04T19:19:31.037830Z",
     "iopub.status.busy": "2023-05-04T19:19:31.037412Z",
     "iopub.status.idle": "2023-05-04T19:19:32.487286Z",
     "shell.execute_reply": "2023-05-04T19:19:32.486007Z"
    },
    "papermill": {
     "duration": 1.48234,
     "end_time": "2023-05-04T19:19:32.490646",
     "exception": false,
     "start_time": "2023-05-04T19:19:31.008306",
     "status": "completed"
    },
    "tags": []
   },
   "outputs": [
    {
     "name": "stderr",
     "output_type": "stream",
     "text": [
      "[Stage 95:>                                                         (0 + 2) / 2]\r"
     ]
    },
    {
     "name": "stdout",
     "output_type": "stream",
     "text": [
      "+----------+--------+\n",
      "|      Date|count(1)|\n",
      "+----------+--------+\n",
      "|01/01/2017|     242|\n",
      "|01/01/2018|     234|\n",
      "|01/01/2019|     231|\n",
      "|01/01/2020|     196|\n",
      "|01/01/2021|     110|\n",
      "|01/02/2017|     333|\n",
      "|01/02/2018|     408|\n",
      "|01/02/2019|     318|\n",
      "|01/02/2020|     289|\n",
      "|01/02/2021|     182|\n",
      "|01/03/2017|     372|\n",
      "|01/03/2018|     231|\n",
      "|01/03/2019|     305|\n",
      "|01/03/2020|     237|\n",
      "|01/03/2021|     172|\n",
      "|01/04/2017|     324|\n",
      "|01/04/2018|     225|\n",
      "|01/04/2019|     312|\n",
      "|01/04/2020|      78|\n",
      "|01/04/2021|     277|\n",
      "+----------+--------+\n",
      "only showing top 20 rows\n",
      "\n"
     ]
    },
    {
     "name": "stderr",
     "output_type": "stream",
     "text": [
      "                                                                                \r"
     ]
    }
   ],
   "source": [
    "sqlContext.sql(\"SELECT Date, \\\n",
    "                        COUNT(*) \\\n",
    "                        FROM tbAccidents_last5years \\\n",
    "                        GROUP BY Date \\\n",
    "                        ORDER BY Date\").show()"
   ]
  },
  {
   "cell_type": "code",
   "execution_count": 34,
   "id": "1b840e9d",
   "metadata": {
    "execution": {
     "iopub.execute_input": "2023-05-04T19:19:32.554610Z",
     "iopub.status.busy": "2023-05-04T19:19:32.554105Z",
     "iopub.status.idle": "2023-05-04T19:19:33.503357Z",
     "shell.execute_reply": "2023-05-04T19:19:33.502364Z"
    },
    "papermill": {
     "duration": 0.984441,
     "end_time": "2023-05-04T19:19:33.508861",
     "exception": false,
     "start_time": "2023-05-04T19:19:32.524420",
     "status": "completed"
    },
    "tags": []
   },
   "outputs": [
    {
     "name": "stderr",
     "output_type": "stream",
     "text": [
      "[Stage 98:=============================>                            (1 + 1) / 2]\r"
     ]
    },
    {
     "name": "stdout",
     "output_type": "stream",
     "text": [
      "+----------+--------+\n",
      "|      Date|count(1)|\n",
      "+----------+--------+\n",
      "|01/01/2017|     242|\n",
      "|01/01/2018|     234|\n",
      "|01/01/2019|     231|\n",
      "|01/01/2020|     196|\n",
      "|01/01/2021|     110|\n",
      "|01/02/2017|     333|\n",
      "|01/02/2018|     408|\n",
      "|01/02/2019|     318|\n",
      "|01/02/2020|     289|\n",
      "|01/02/2021|     182|\n",
      "|01/03/2017|     372|\n",
      "|01/03/2018|     231|\n",
      "|01/03/2019|     305|\n",
      "|01/03/2020|     237|\n",
      "|01/03/2021|     172|\n",
      "|01/04/2017|     324|\n",
      "|01/04/2018|     225|\n",
      "|01/04/2019|     312|\n",
      "|01/04/2020|      78|\n",
      "|01/04/2021|     277|\n",
      "+----------+--------+\n",
      "only showing top 20 rows\n",
      "\n"
     ]
    },
    {
     "name": "stderr",
     "output_type": "stream",
     "text": [
      "                                                                                \r"
     ]
    }
   ],
   "source": [
    "sqlContext.sql(\"SELECT Date, COUNT(*) FROM tbAccidents_last5years GROUP BY Date ORDER BY Date\").show()"
   ]
  },
  {
   "cell_type": "code",
   "execution_count": 35,
   "id": "0edd5150",
   "metadata": {
    "execution": {
     "iopub.execute_input": "2023-05-04T19:19:33.577581Z",
     "iopub.status.busy": "2023-05-04T19:19:33.577099Z",
     "iopub.status.idle": "2023-05-04T19:19:34.458388Z",
     "shell.execute_reply": "2023-05-04T19:19:34.457017Z"
    },
    "papermill": {
     "duration": 0.914983,
     "end_time": "2023-05-04T19:19:34.461975",
     "exception": false,
     "start_time": "2023-05-04T19:19:33.546992",
     "status": "completed"
    },
    "tags": []
   },
   "outputs": [
    {
     "name": "stderr",
     "output_type": "stream",
     "text": [
      "[Stage 101:>                                                        (0 + 2) / 2]\r"
     ]
    },
    {
     "name": "stdout",
     "output_type": "stream",
     "text": [
      "+-----------------+--------+\n",
      "|Accident_Severity|count(1)|\n",
      "+-----------------+--------+\n",
      "|                1|    7870|\n",
      "|                2|  107943|\n",
      "|                3|  446626|\n",
      "+-----------------+--------+\n",
      "\n"
     ]
    },
    {
     "name": "stderr",
     "output_type": "stream",
     "text": [
      "                                                                                \r"
     ]
    }
   ],
   "source": [
    "sqlContext.sql(\"SELECT Accident_Severity,COUNT(*) FROM tbAccidents_last5years GROUP BY Accident_Severity ORDER BY Accident_Severity\").show()"
   ]
  },
  {
   "cell_type": "code",
   "execution_count": 36,
   "id": "e7be79e1",
   "metadata": {
    "execution": {
     "iopub.execute_input": "2023-05-04T19:19:34.526473Z",
     "iopub.status.busy": "2023-05-04T19:19:34.526102Z",
     "iopub.status.idle": "2023-05-04T19:19:35.369076Z",
     "shell.execute_reply": "2023-05-04T19:19:35.368183Z"
    },
    "papermill": {
     "duration": 0.876735,
     "end_time": "2023-05-04T19:19:35.372767",
     "exception": false,
     "start_time": "2023-05-04T19:19:34.496032",
     "status": "completed"
    },
    "tags": []
   },
   "outputs": [
    {
     "name": "stdout",
     "output_type": "stream",
     "text": [
      "+-----------------+--------+\n",
      "|Accident_Severity|count(1)|\n",
      "+-----------------+--------+\n",
      "|                1|    7870|\n",
      "|                2|  107943|\n",
      "|                3|  446626|\n",
      "+-----------------+--------+\n",
      "\n"
     ]
    },
    {
     "name": "stderr",
     "output_type": "stream",
     "text": [
      "                                                                                \r"
     ]
    }
   ],
   "source": [
    "sqlContext.sql(\"SELECT Accident_Severity, \\\n",
    "                        COUNT(*) \\\n",
    "                        FROM tbAccidents_last5years \\\n",
    "                        GROUP BY Accident_Severity \\\n",
    "                        ORDER BY Accident_Severity\").show()"
   ]
  },
  {
   "cell_type": "markdown",
   "id": "3de766b9",
   "metadata": {
    "papermill": {
     "duration": 0.028991,
     "end_time": "2023-05-04T19:19:35.432150",
     "exception": false,
     "start_time": "2023-05-04T19:19:35.403159",
     "status": "completed"
    },
    "tags": []
   },
   "source": [
    "### Analyze with Pedestrian Crossing Human Control "
   ]
  },
  {
   "cell_type": "code",
   "execution_count": 37,
   "id": "796f7d9f",
   "metadata": {
    "execution": {
     "iopub.execute_input": "2023-05-04T19:19:35.491059Z",
     "iopub.status.busy": "2023-05-04T19:19:35.490387Z",
     "iopub.status.idle": "2023-05-04T19:19:36.338912Z",
     "shell.execute_reply": "2023-05-04T19:19:36.337499Z"
    },
    "papermill": {
     "duration": 0.881404,
     "end_time": "2023-05-04T19:19:36.341899",
     "exception": false,
     "start_time": "2023-05-04T19:19:35.460495",
     "status": "completed"
    },
    "tags": []
   },
   "outputs": [
    {
     "name": "stdout",
     "output_type": "stream",
     "text": [
      "+---------------------------------+--------+\n",
      "|pedestrian_crossing_human_control|count(1)|\n",
      "+---------------------------------+--------+\n",
      "|                               -1|     811|\n",
      "|                                0|  537603|\n",
      "|                                1|    2161|\n",
      "|                                2|    5800|\n",
      "|                                9|   16064|\n",
      "+---------------------------------+--------+\n",
      "\n"
     ]
    },
    {
     "name": "stderr",
     "output_type": "stream",
     "text": [
      "                                                                                \r"
     ]
    }
   ],
   "source": [
    "sqlContext.sql(\"SELECT pedestrian_crossing_human_control, \\\n",
    "                        COUNT(*) \\\n",
    "                        FROM tbAccidents_last5years \\\n",
    "                        GROUP BY pedestrian_crossing_human_control \\\n",
    "                        ORDER BY pedestrian_crossing_human_control\").show()"
   ]
  },
  {
   "cell_type": "markdown",
   "id": "1a096b29",
   "metadata": {
    "papermill": {
     "duration": 0.028496,
     "end_time": "2023-05-04T19:19:36.407828",
     "exception": false,
     "start_time": "2023-05-04T19:19:36.379332",
     "status": "completed"
    },
    "tags": []
   },
   "source": [
    "### Visualize with Pedestrian Crossing Human Control"
   ]
  },
  {
   "cell_type": "code",
   "execution_count": 38,
   "id": "49388c18",
   "metadata": {
    "execution": {
     "iopub.execute_input": "2023-05-04T19:19:36.466954Z",
     "iopub.status.busy": "2023-05-04T19:19:36.466549Z",
     "iopub.status.idle": "2023-05-04T19:19:37.651733Z",
     "shell.execute_reply": "2023-05-04T19:19:37.650449Z"
    },
    "papermill": {
     "duration": 1.21735,
     "end_time": "2023-05-04T19:19:37.654001",
     "exception": false,
     "start_time": "2023-05-04T19:19:36.436651",
     "status": "completed"
    },
    "tags": []
   },
   "outputs": [
    {
     "name": "stderr",
     "output_type": "stream",
     "text": [
      "                                                                                \r"
     ]
    },
    {
     "data": {
      "image/png": "[encoded data removed]",
      "text/plain": [
       "<Figure size 640x480 with 1 Axes>"
      ]
     },
     "metadata": {},
     "output_type": "display_data"
    }
   ],
   "source": [
    "# Group the data by year and count the number of accidents in each year\n",
    "accidents_by_year = accident_P2734493DF.groupBy(\"pedestrian_crossing_human_control\").count().orderBy(\"pedestrian_crossing_human_control\")\n",
    "\n",
    "# Convert PySpark DataFrame to Pandas DataFrame\n",
    "accidents_by_year_pd = accidents_by_year.toPandas()\n",
    "\n",
    "# Plot the data\n",
    "accidents_by_year_pd.plot(kind='bar', x='pedestrian_crossing_human_control', y='count')\n",
    "\n",
    "# Set the title and axis labels\n",
    "plt.title('Number of accidents by Pedestrian Crossing Human Control')\n",
    "plt.xlabel('Pedestrian Crossing Human Control')\n",
    "plt.ylabel('Number of accidents')\n",
    "plt.xticks(rotation=0, ha=\"right\")\n",
    "\n",
    "# Show the plot\n",
    "plt.show()"
   ]
  },
  {
   "cell_type": "code",
   "execution_count": 39,
   "id": "77b7b248",
   "metadata": {
    "execution": {
     "iopub.execute_input": "2023-05-04T19:19:37.715389Z",
     "iopub.status.busy": "2023-05-04T19:19:37.715008Z",
     "iopub.status.idle": "2023-05-04T19:19:38.552732Z",
     "shell.execute_reply": "2023-05-04T19:19:38.550842Z"
    },
    "papermill": {
     "duration": 0.871104,
     "end_time": "2023-05-04T19:19:38.555253",
     "exception": false,
     "start_time": "2023-05-04T19:19:37.684149",
     "status": "completed"
    },
    "tags": []
   },
   "outputs": [
    {
     "name": "stdout",
     "output_type": "stream",
     "text": [
      "+-----------------+-----------+------+\n",
      "|Accident_Severity|Speed_limit| count|\n",
      "+-----------------+-----------+------+\n",
      "|                2|         -1|     8|\n",
      "|                3|         -1|    84|\n",
      "|                1|         20|   259|\n",
      "|                1|         50|   630|\n",
      "|                1|         40|   780|\n",
      "|                1|         70|   926|\n",
      "|                1|         60|  2637|\n",
      "|                1|         30|  2638|\n",
      "|                2|         50|  4757|\n",
      "|                2|         70|  6057|\n",
      "|                2|         20|  9227|\n",
      "|                2|         40|  9664|\n",
      "|                3|         50| 17687|\n",
      "|                2|         60| 18717|\n",
      "|                3|         70| 26468|\n",
      "|                3|         40| 36887|\n",
      "|                3|         20| 48514|\n",
      "|                3|         60| 48635|\n",
      "|                2|         30| 59513|\n",
      "|                3|         30|268351|\n",
      "+-----------------+-----------+------+\n",
      "\n"
     ]
    },
    {
     "name": "stderr",
     "output_type": "stream",
     "text": [
      "                                                                                \r"
     ]
    }
   ],
   "source": [
    "Accident_type = accident_P2734493DF.groupby(\"Accident_Severity\",\"Speed_limit\").count().sort(\"count\")\n",
    "Accident_type.show()"
   ]
  },
  {
   "cell_type": "markdown",
   "id": "d9ff470a",
   "metadata": {
    "papermill": {
     "duration": 0.029271,
     "end_time": "2023-05-04T19:19:38.613669",
     "exception": false,
     "start_time": "2023-05-04T19:19:38.584398",
     "status": "completed"
    },
    "tags": []
   },
   "source": [
    "**VISUALISATION**"
   ]
  },
  {
   "cell_type": "code",
   "execution_count": 40,
   "id": "72c6a7da",
   "metadata": {
    "execution": {
     "iopub.execute_input": "2023-05-04T19:19:38.675376Z",
     "iopub.status.busy": "2023-05-04T19:19:38.675009Z",
     "iopub.status.idle": "2023-05-04T19:19:39.923242Z",
     "shell.execute_reply": "2023-05-04T19:19:39.922013Z"
    },
    "papermill": {
     "duration": 1.281795,
     "end_time": "2023-05-04T19:19:39.925402",
     "exception": false,
     "start_time": "2023-05-04T19:19:38.643607",
     "status": "completed"
    },
    "tags": []
   },
   "outputs": [
    {
     "name": "stderr",
     "output_type": "stream",
     "text": [
      "                                                                                \r"
     ]
    },
    {
     "data": {
      "image/png": "[encoded data removed]",
      "text/plain": [
       "<Figure size 1000x500 with 1 Axes>"
      ]
     },
     "metadata": {},
     "output_type": "display_data"
    }
   ],
   "source": [
    "import matplotlib.pyplot as plt\n",
    "import pandas as pd\n",
    "\n",
    "Panda_Accident_Type = Accident_type.toPandas()\n",
    "\n",
    "%matplotlib inline\n",
    "\n",
    "plot_Outcome=Panda_Accident_Type.pivot(index='Speed_limit', columns='Accident_Severity', values='count') \\\n",
    "                         .plot(kind='bar', figsize=(10,5))\n",
    "plot_Outcome.set_title(\"Speed Limit vs Accident Severity\",color=\"b\")\n",
    "plot_Outcome.set_ylim(0,58000)\n",
    "plot_Outcome.set_xlabel(\"Speed Limit\",color=\"b\")\n",
    "plt.legend(loc='center left', bbox_to_anchor=(1, 0.5));"
   ]
  },
  {
   "cell_type": "code",
   "execution_count": 41,
   "id": "34d558de",
   "metadata": {
    "execution": {
     "iopub.execute_input": "2023-05-04T19:19:39.987115Z",
     "iopub.status.busy": "2023-05-04T19:19:39.986727Z",
     "iopub.status.idle": "2023-05-04T19:19:40.007647Z",
     "shell.execute_reply": "2023-05-04T19:19:40.006923Z"
    },
    "papermill": {
     "duration": 0.054706,
     "end_time": "2023-05-04T19:19:40.009949",
     "exception": false,
     "start_time": "2023-05-04T19:19:39.955243",
     "status": "completed"
    },
    "tags": []
   },
   "outputs": [
    {
     "data": {
      "text/html": [
       "<div>\n",
       "<style scoped>\n",
       "    .dataframe tbody tr th:only-of-type {\n",
       "        vertical-align: middle;\n",
       "    }\n",
       "\n",
       "    .dataframe tbody tr th {\n",
       "        vertical-align: top;\n",
       "    }\n",
       "\n",
       "    .dataframe thead th {\n",
       "        text-align: right;\n",
       "    }\n",
       "</style>\n",
       "<table border=\"1\" class=\"dataframe\">\n",
       "  <thead>\n",
       "    <tr style=\"text-align: right;\">\n",
       "      <th></th>\n",
       "      <th>Accident_Severity</th>\n",
       "      <th>Speed_limit</th>\n",
       "      <th>count</th>\n",
       "    </tr>\n",
       "  </thead>\n",
       "  <tbody>\n",
       "    <tr>\n",
       "      <th>0</th>\n",
       "      <td>2</td>\n",
       "      <td>-1</td>\n",
       "      <td>8</td>\n",
       "    </tr>\n",
       "    <tr>\n",
       "      <th>1</th>\n",
       "      <td>3</td>\n",
       "      <td>-1</td>\n",
       "      <td>84</td>\n",
       "    </tr>\n",
       "    <tr>\n",
       "      <th>2</th>\n",
       "      <td>1</td>\n",
       "      <td>20</td>\n",
       "      <td>259</td>\n",
       "    </tr>\n",
       "    <tr>\n",
       "      <th>3</th>\n",
       "      <td>1</td>\n",
       "      <td>50</td>\n",
       "      <td>630</td>\n",
       "    </tr>\n",
       "    <tr>\n",
       "      <th>4</th>\n",
       "      <td>1</td>\n",
       "      <td>40</td>\n",
       "      <td>780</td>\n",
       "    </tr>\n",
       "    <tr>\n",
       "      <th>5</th>\n",
       "      <td>1</td>\n",
       "      <td>70</td>\n",
       "      <td>926</td>\n",
       "    </tr>\n",
       "    <tr>\n",
       "      <th>6</th>\n",
       "      <td>1</td>\n",
       "      <td>60</td>\n",
       "      <td>2637</td>\n",
       "    </tr>\n",
       "    <tr>\n",
       "      <th>7</th>\n",
       "      <td>1</td>\n",
       "      <td>30</td>\n",
       "      <td>2638</td>\n",
       "    </tr>\n",
       "    <tr>\n",
       "      <th>8</th>\n",
       "      <td>2</td>\n",
       "      <td>50</td>\n",
       "      <td>4757</td>\n",
       "    </tr>\n",
       "    <tr>\n",
       "      <th>9</th>\n",
       "      <td>2</td>\n",
       "      <td>70</td>\n",
       "      <td>6057</td>\n",
       "    </tr>\n",
       "    <tr>\n",
       "      <th>10</th>\n",
       "      <td>2</td>\n",
       "      <td>20</td>\n",
       "      <td>9227</td>\n",
       "    </tr>\n",
       "    <tr>\n",
       "      <th>11</th>\n",
       "      <td>2</td>\n",
       "      <td>40</td>\n",
       "      <td>9664</td>\n",
       "    </tr>\n",
       "    <tr>\n",
       "      <th>12</th>\n",
       "      <td>3</td>\n",
       "      <td>50</td>\n",
       "      <td>17687</td>\n",
       "    </tr>\n",
       "    <tr>\n",
       "      <th>13</th>\n",
       "      <td>2</td>\n",
       "      <td>60</td>\n",
       "      <td>18717</td>\n",
       "    </tr>\n",
       "    <tr>\n",
       "      <th>14</th>\n",
       "      <td>3</td>\n",
       "      <td>70</td>\n",
       "      <td>26468</td>\n",
       "    </tr>\n",
       "    <tr>\n",
       "      <th>15</th>\n",
       "      <td>3</td>\n",
       "      <td>40</td>\n",
       "      <td>36887</td>\n",
       "    </tr>\n",
       "    <tr>\n",
       "      <th>16</th>\n",
       "      <td>3</td>\n",
       "      <td>20</td>\n",
       "      <td>48514</td>\n",
       "    </tr>\n",
       "    <tr>\n",
       "      <th>17</th>\n",
       "      <td>3</td>\n",
       "      <td>60</td>\n",
       "      <td>48635</td>\n",
       "    </tr>\n",
       "    <tr>\n",
       "      <th>18</th>\n",
       "      <td>2</td>\n",
       "      <td>30</td>\n",
       "      <td>59513</td>\n",
       "    </tr>\n",
       "    <tr>\n",
       "      <th>19</th>\n",
       "      <td>3</td>\n",
       "      <td>30</td>\n",
       "      <td>268351</td>\n",
       "    </tr>\n",
       "  </tbody>\n",
       "</table>\n",
       "</div>"
      ],
      "text/plain": [
       "    Accident_Severity  Speed_limit   count\n",
       "0                   2           -1       8\n",
       "1                   3           -1      84\n",
       "2                   1           20     259\n",
       "3                   1           50     630\n",
       "4                   1           40     780\n",
       "5                   1           70     926\n",
       "6                   1           60    2637\n",
       "7                   1           30    2638\n",
       "8                   2           50    4757\n",
       "9                   2           70    6057\n",
       "10                  2           20    9227\n",
       "11                  2           40    9664\n",
       "12                  3           50   17687\n",
       "13                  2           60   18717\n",
       "14                  3           70   26468\n",
       "15                  3           40   36887\n",
       "16                  3           20   48514\n",
       "17                  3           60   48635\n",
       "18                  2           30   59513\n",
       "19                  3           30  268351"
      ]
     },
     "execution_count": 41,
     "metadata": {},
     "output_type": "execute_result"
    }
   ],
   "source": [
    "Panda_Accident_Type"
   ]
  },
  {
   "cell_type": "code",
   "execution_count": 42,
   "id": "0ddec930",
   "metadata": {
    "execution": {
     "iopub.execute_input": "2023-05-04T19:19:40.072789Z",
     "iopub.status.busy": "2023-05-04T19:19:40.071804Z",
     "iopub.status.idle": "2023-05-04T19:19:40.896625Z",
     "shell.execute_reply": "2023-05-04T19:19:40.895449Z"
    },
    "papermill": {
     "duration": 0.859361,
     "end_time": "2023-05-04T19:19:40.899646",
     "exception": false,
     "start_time": "2023-05-04T19:19:40.040285",
     "status": "completed"
    },
    "tags": []
   },
   "outputs": [
    {
     "name": "stdout",
     "output_type": "stream",
     "text": [
      "+-----------+\n",
      "|Day_of_Week|\n",
      "+-----------+\n",
      "|          1|\n",
      "|          6|\n",
      "|          3|\n",
      "|          5|\n",
      "|          4|\n",
      "|          7|\n",
      "|          2|\n",
      "+-----------+\n",
      "\n"
     ]
    },
    {
     "name": "stderr",
     "output_type": "stream",
     "text": [
      "                                                                                \r"
     ]
    }
   ],
   "source": [
    "accident_P2734493DF.select(\"Day_of_Week\").distinct().show()"
   ]
  },
  {
   "cell_type": "markdown",
   "id": "dd7f8cbf",
   "metadata": {
    "papermill": {
     "duration": 0.032031,
     "end_time": "2023-05-04T19:19:40.962647",
     "exception": false,
     "start_time": "2023-05-04T19:19:40.930616",
     "status": "completed"
    },
    "tags": []
   },
   "source": [
    "### Visualize based on Day of Week"
   ]
  },
  {
   "cell_type": "code",
   "execution_count": 43,
   "id": "51f3c750",
   "metadata": {
    "execution": {
     "iopub.execute_input": "2023-05-04T19:19:41.028163Z",
     "iopub.status.busy": "2023-05-04T19:19:41.027086Z",
     "iopub.status.idle": "2023-05-04T19:19:42.429843Z",
     "shell.execute_reply": "2023-05-04T19:19:42.428676Z"
    },
    "papermill": {
     "duration": 1.438234,
     "end_time": "2023-05-04T19:19:42.432283",
     "exception": false,
     "start_time": "2023-05-04T19:19:40.994049",
     "status": "completed"
    },
    "tags": []
   },
   "outputs": [
    {
     "name": "stderr",
     "output_type": "stream",
     "text": [
      "                                                                                \r"
     ]
    },
    {
     "data": {
      "image/png": "[encoded data removed]",
      "text/plain": [
       "<Figure size 640x480 with 1 Axes>"
      ]
     },
     "metadata": {},
     "output_type": "display_data"
    }
   ],
   "source": [
    "# Group the data by year and count the number of accidents in each year\n",
    "accidents_by_year = accident_P2734493DF.groupBy(\"day_of_week\").count().orderBy(\"day_of_week\")\n",
    "\n",
    "# Convert PySpark DataFrame to Pandas DataFrame\n",
    "accidents_by_year_pd = accidents_by_year.toPandas()\n",
    "\n",
    "# Plot the data\n",
    "accidents_by_year_pd.plot(kind='bar', x='day_of_week', y='count')\n",
    "\n",
    "# Set the title and axis labels\n",
    "plt.title('Number of accidents by Day of Week')\n",
    "plt.xlabel('Day of Week')\n",
    "plt.ylabel('Number of accidents')\n",
    "plt.xticks(rotation=0, ha=\"right\")\n",
    "\n",
    "# Show the plot\n",
    "plt.show()"
   ]
  },
  {
   "cell_type": "markdown",
   "id": "08992ef0",
   "metadata": {
    "papermill": {
     "duration": 0.03224,
     "end_time": "2023-05-04T19:19:42.495824",
     "exception": false,
     "start_time": "2023-05-04T19:19:42.463584",
     "status": "completed"
    },
    "tags": []
   },
   "source": [
    "### Visualize based on Time"
   ]
  },
  {
   "cell_type": "code",
   "execution_count": 44,
   "id": "414769b3",
   "metadata": {
    "execution": {
     "iopub.execute_input": "2023-05-04T19:19:42.561155Z",
     "iopub.status.busy": "2023-05-04T19:19:42.560403Z",
     "iopub.status.idle": "2023-05-04T19:19:50.959787Z",
     "shell.execute_reply": "2023-05-04T19:19:50.958542Z"
    },
    "papermill": {
     "duration": 8.434905,
     "end_time": "2023-05-04T19:19:50.962226",
     "exception": false,
     "start_time": "2023-05-04T19:19:42.527321",
     "status": "completed"
    },
    "tags": []
   },
   "outputs": [
    {
     "name": "stderr",
     "output_type": "stream",
     "text": [
      "                                                                                \r"
     ]
    },
    {
     "data": {
      "image/png": "[encoded data removed]",
      "text/plain": [
       "<Figure size 640x480 with 1 Axes>"
      ]
     },
     "metadata": {},
     "output_type": "display_data"
    }
   ],
   "source": [
    "# Group the data by year and count the number of accidents in each year\n",
    "accidents_by_year = accident_P2734493DF.groupBy(\"time\").count().orderBy(\"time\")\n",
    "\n",
    "# Convert PySpark DataFrame to Pandas DataFrame\n",
    "accidents_by_year_pd = accidents_by_year.toPandas()\n",
    "\n",
    "# Plot the data\n",
    "accidents_by_year_pd.plot(kind='scatter', x='time', y='count')\n",
    "\n",
    "# Set the title and axis labels\n",
    "plt.title('Number of accidents by Time')\n",
    "plt.xlabel('Time')\n",
    "plt.ylabel('Number of accidents')\n",
    "plt.xticks(rotation=0, ha=\"right\")\n",
    "\n",
    "# Show the plot\n",
    "plt.show()"
   ]
  }
 ],
 "metadata": {
  "kernelspec": {
   "display_name": "Python 3",
   "language": "python",
   "name": "python3"
  },
  "language_info": {
   "codemirror_mode": {
    "name": "ipython",
    "version": 3
   },
   "file_extension": ".py",
   "mimetype": "text/x-python",
   "name": "python",
   "nbconvert_exporter": "python",
   "pygments_lexer": "ipython3",
   "version": "3.10.10"
  },
  "papermill": {
   "default_parameters": {},
   "duration": 149.749459,
   "end_time": "2023-05-04T19:19:53.617023",
   "environment_variables": {},
   "exception": null,
   "input_path": "__notebook__.ipynb",
   "output_path": "__notebook__.ipynb",
   "parameters": {},
   "start_time": "2023-05-04T19:17:23.867564",
   "version": "2.4.0"
  }
 },
 "nbformat": 4,
 "nbformat_minor": 5
}
